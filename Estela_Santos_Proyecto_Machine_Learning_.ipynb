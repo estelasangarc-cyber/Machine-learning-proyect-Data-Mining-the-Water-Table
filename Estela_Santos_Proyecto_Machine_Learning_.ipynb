{
 "cells": [
  {
   "cell_type": "markdown",
   "id": "b368afd2-0c12-4a9f-8a9f-1782c70384d6",
   "metadata": {},
   "source": [
    "# Introduccion"
   ]
  },
  {
   "cell_type": "markdown",
   "id": "0b60b8c4-ffc6-4489-b121-3513df834a5e",
   "metadata": {},
   "source": [
    "Este proyecto se ha centrado en desarrollar un modelo de machine learning capaz de predecir el estado funcional de las bombas de agua en diferentes regiones de Tanzania. El objetivo principal es lograr predecir el estado de las bombas de agua dentro de tres categorías: 'functional' (operativa), 'non functional' (no operativa) o 'functional needs repair' (necesita reparación). "
   ]
  },
  {
   "cell_type": "markdown",
   "id": "79c0120f-ef0e-4060-a090-941f718e1be4",
   "metadata": {},
   "source": [
    "El primer paso es importar las librerías."
   ]
  },
  {
   "cell_type": "code",
   "execution_count": 166,
   "id": "66a49ed2-62a3-41dc-a9fe-2ed1e3db9c41",
   "metadata": {},
   "outputs": [],
   "source": [
    "import pandas as pd\n",
    "import numpy as np\n",
    "import matplotlib.pyplot as plt\n",
    "import seaborn as sns\n",
    "import requests\n",
    "import re\n",
    "from datetime import datetime\n",
    "from sklearn.model_selection import train_test_split, cross_val_score, GridSearchCV, StratifiedKFold, cross_validate\n",
    "from sklearn.linear_model import LogisticRegression\n",
    "from sklearn.tree import DecisionTreeClassifier\n",
    "from sklearn.ensemble import RandomForestClassifier, AdaBoostClassifier\n",
    "from sklearn.svm import LinearSVC, SVC\n",
    "from xgboost import XGBClassifier\n",
    "from sklearn.naive_bayes import GaussianNB\n",
    "from sklearn.preprocessing import MinMaxScaler\n",
    "from imblearn.over_sampling import SMOTE\n",
    "from sklearn.metrics import classification_report, accuracy_score, auc, confusion_matrix, f1_score, precision_score, recall_score, roc_curve\n",
    "import pickle\n",
    "import matplotlib.pyplot as plt\n",
    "import seaborn as sns\n",
    "from scipy.stats import stats\n",
    "import plotly.express as px\n",
    "import plotly.graph_objects as go\n",
    "import mlflow\n",
    "sns.set()\n",
    "get_ipython().run_line_magic('matplotlib', 'inline')"
   ]
  },
  {
   "cell_type": "markdown",
   "id": "3b5725af-a585-4035-a332-db2a233a15fd",
   "metadata": {},
   "source": [
    "# Cargamos los datasets con la información detallada"
   ]
  },
  {
   "cell_type": "code",
   "execution_count": 167,
   "id": "73fcc997-37b2-4fc1-9fdb-93149941975c",
   "metadata": {},
   "outputs": [],
   "source": [
    "X_train = pd.read_csv(\"C:/Users/estel/OneDrive/Desktop/Máster/Machine Learning/Proyecto/X_train.csv\")\n",
    "Y_train = pd.read_csv(\"C:/Users/estel/OneDrive/Desktop/Máster/Machine Learning/Proyecto/Y_train.csv\")\n",
    "X_test = pd.read_csv(\"C:/Users/estel/OneDrive/Desktop/Máster/Machine Learning/Proyecto/X_test.csv\")"
   ]
  },
  {
   "cell_type": "code",
   "execution_count": null,
   "id": "78310709-3555-45f0-ac7a-540610c1b24e",
   "metadata": {},
   "outputs": [],
   "source": [
    "print('Tamaño de tabla de X_train:',X_train.shape[0])\n",
    "print('Tamaño de tabla de Y_train:',Y_train.shape[0])\n",
    "print('Tamaño de tabla de X_test:',X_test.shape[0])"
   ]
  },
  {
   "cell_type": "code",
   "execution_count": 169,
   "id": "572f2845-c77f-4f38-9c97-039f20be1446",
   "metadata": {},
   "outputs": [
    {
     "data": {
      "text/plain": [
       "59400"
      ]
     },
     "execution_count": 169,
     "metadata": {},
     "output_type": "execute_result"
    }
   ],
   "source": [
    "# Verificamos si las bombas son únicas en cada tabla\n",
    "\n",
    "len(X_train['id'].unique()) "
   ]
  },
  {
   "cell_type": "code",
   "execution_count": 170,
   "id": "3fe16406-2948-49d1-b727-2b63fb3e0dcb",
   "metadata": {},
   "outputs": [
    {
     "data": {
      "text/plain": [
       "59400"
      ]
     },
     "execution_count": 170,
     "metadata": {},
     "output_type": "execute_result"
    }
   ],
   "source": [
    "len(Y_train['id'].unique()) "
   ]
  },
  {
   "cell_type": "code",
   "execution_count": 171,
   "id": "7ade7ac8-9407-4fdf-b2b6-29663068fb7e",
   "metadata": {},
   "outputs": [
    {
     "data": {
      "text/plain": [
       "14850"
      ]
     },
     "execution_count": 171,
     "metadata": {},
     "output_type": "execute_result"
    }
   ],
   "source": [
    "len(X_test['id'].unique()) "
   ]
  },
  {
   "cell_type": "code",
   "execution_count": 172,
   "id": "b7479ae6-730f-447d-bedd-e15205fa48c2",
   "metadata": {},
   "outputs": [
    {
     "data": {
      "text/html": [
       "<div>\n",
       "<style scoped>\n",
       "    .dataframe tbody tr th:only-of-type {\n",
       "        vertical-align: middle;\n",
       "    }\n",
       "\n",
       "    .dataframe tbody tr th {\n",
       "        vertical-align: top;\n",
       "    }\n",
       "\n",
       "    .dataframe thead th {\n",
       "        text-align: right;\n",
       "    }\n",
       "</style>\n",
       "<table border=\"1\" class=\"dataframe\">\n",
       "  <thead>\n",
       "    <tr style=\"text-align: right;\">\n",
       "      <th></th>\n",
       "      <th>id</th>\n",
       "      <th>amount_tsh</th>\n",
       "      <th>date_recorded</th>\n",
       "      <th>funder</th>\n",
       "      <th>gps_height</th>\n",
       "      <th>installer</th>\n",
       "      <th>longitude</th>\n",
       "      <th>latitude</th>\n",
       "      <th>wpt_name</th>\n",
       "      <th>num_private</th>\n",
       "      <th>...</th>\n",
       "      <th>payment_type</th>\n",
       "      <th>water_quality</th>\n",
       "      <th>quality_group</th>\n",
       "      <th>quantity</th>\n",
       "      <th>quantity_group</th>\n",
       "      <th>source</th>\n",
       "      <th>source_type</th>\n",
       "      <th>source_class</th>\n",
       "      <th>waterpoint_type</th>\n",
       "      <th>waterpoint_type_group</th>\n",
       "    </tr>\n",
       "  </thead>\n",
       "  <tbody>\n",
       "    <tr>\n",
       "      <th>0</th>\n",
       "      <td>69572</td>\n",
       "      <td>6000.0</td>\n",
       "      <td>2011-03-14</td>\n",
       "      <td>Roman</td>\n",
       "      <td>1390</td>\n",
       "      <td>Roman</td>\n",
       "      <td>34.938093</td>\n",
       "      <td>-9.856322</td>\n",
       "      <td>none</td>\n",
       "      <td>0</td>\n",
       "      <td>...</td>\n",
       "      <td>annually</td>\n",
       "      <td>soft</td>\n",
       "      <td>good</td>\n",
       "      <td>enough</td>\n",
       "      <td>enough</td>\n",
       "      <td>spring</td>\n",
       "      <td>spring</td>\n",
       "      <td>groundwater</td>\n",
       "      <td>communal standpipe</td>\n",
       "      <td>communal standpipe</td>\n",
       "    </tr>\n",
       "    <tr>\n",
       "      <th>1</th>\n",
       "      <td>8776</td>\n",
       "      <td>0.0</td>\n",
       "      <td>2013-03-06</td>\n",
       "      <td>Grumeti</td>\n",
       "      <td>1399</td>\n",
       "      <td>GRUMETI</td>\n",
       "      <td>34.698766</td>\n",
       "      <td>-2.147466</td>\n",
       "      <td>Zahanati</td>\n",
       "      <td>0</td>\n",
       "      <td>...</td>\n",
       "      <td>never pay</td>\n",
       "      <td>soft</td>\n",
       "      <td>good</td>\n",
       "      <td>insufficient</td>\n",
       "      <td>insufficient</td>\n",
       "      <td>rainwater harvesting</td>\n",
       "      <td>rainwater harvesting</td>\n",
       "      <td>surface</td>\n",
       "      <td>communal standpipe</td>\n",
       "      <td>communal standpipe</td>\n",
       "    </tr>\n",
       "    <tr>\n",
       "      <th>2</th>\n",
       "      <td>34310</td>\n",
       "      <td>25.0</td>\n",
       "      <td>2013-02-25</td>\n",
       "      <td>Lottery Club</td>\n",
       "      <td>686</td>\n",
       "      <td>World vision</td>\n",
       "      <td>37.460664</td>\n",
       "      <td>-3.821329</td>\n",
       "      <td>Kwa Mahundi</td>\n",
       "      <td>0</td>\n",
       "      <td>...</td>\n",
       "      <td>per bucket</td>\n",
       "      <td>soft</td>\n",
       "      <td>good</td>\n",
       "      <td>enough</td>\n",
       "      <td>enough</td>\n",
       "      <td>dam</td>\n",
       "      <td>dam</td>\n",
       "      <td>surface</td>\n",
       "      <td>communal standpipe multiple</td>\n",
       "      <td>communal standpipe</td>\n",
       "    </tr>\n",
       "    <tr>\n",
       "      <th>3</th>\n",
       "      <td>67743</td>\n",
       "      <td>0.0</td>\n",
       "      <td>2013-01-28</td>\n",
       "      <td>Unicef</td>\n",
       "      <td>263</td>\n",
       "      <td>UNICEF</td>\n",
       "      <td>38.486161</td>\n",
       "      <td>-11.155298</td>\n",
       "      <td>Zahanati Ya Nanyumbu</td>\n",
       "      <td>0</td>\n",
       "      <td>...</td>\n",
       "      <td>never pay</td>\n",
       "      <td>soft</td>\n",
       "      <td>good</td>\n",
       "      <td>dry</td>\n",
       "      <td>dry</td>\n",
       "      <td>machine dbh</td>\n",
       "      <td>borehole</td>\n",
       "      <td>groundwater</td>\n",
       "      <td>communal standpipe multiple</td>\n",
       "      <td>communal standpipe</td>\n",
       "    </tr>\n",
       "    <tr>\n",
       "      <th>4</th>\n",
       "      <td>19728</td>\n",
       "      <td>0.0</td>\n",
       "      <td>2011-07-13</td>\n",
       "      <td>Action In A</td>\n",
       "      <td>0</td>\n",
       "      <td>Artisan</td>\n",
       "      <td>31.130847</td>\n",
       "      <td>-1.825359</td>\n",
       "      <td>Shuleni</td>\n",
       "      <td>0</td>\n",
       "      <td>...</td>\n",
       "      <td>never pay</td>\n",
       "      <td>soft</td>\n",
       "      <td>good</td>\n",
       "      <td>seasonal</td>\n",
       "      <td>seasonal</td>\n",
       "      <td>rainwater harvesting</td>\n",
       "      <td>rainwater harvesting</td>\n",
       "      <td>surface</td>\n",
       "      <td>communal standpipe</td>\n",
       "      <td>communal standpipe</td>\n",
       "    </tr>\n",
       "  </tbody>\n",
       "</table>\n",
       "<p>5 rows × 40 columns</p>\n",
       "</div>"
      ],
      "text/plain": [
       "      id  amount_tsh date_recorded        funder  gps_height     installer  \\\n",
       "0  69572      6000.0    2011-03-14         Roman        1390         Roman   \n",
       "1   8776         0.0    2013-03-06       Grumeti        1399       GRUMETI   \n",
       "2  34310        25.0    2013-02-25  Lottery Club         686  World vision   \n",
       "3  67743         0.0    2013-01-28        Unicef         263        UNICEF   \n",
       "4  19728         0.0    2011-07-13   Action In A           0       Artisan   \n",
       "\n",
       "   longitude   latitude              wpt_name  num_private  ... payment_type  \\\n",
       "0  34.938093  -9.856322                  none            0  ...     annually   \n",
       "1  34.698766  -2.147466              Zahanati            0  ...    never pay   \n",
       "2  37.460664  -3.821329           Kwa Mahundi            0  ...   per bucket   \n",
       "3  38.486161 -11.155298  Zahanati Ya Nanyumbu            0  ...    never pay   \n",
       "4  31.130847  -1.825359               Shuleni            0  ...    never pay   \n",
       "\n",
       "  water_quality quality_group      quantity  quantity_group  \\\n",
       "0          soft          good        enough          enough   \n",
       "1          soft          good  insufficient    insufficient   \n",
       "2          soft          good        enough          enough   \n",
       "3          soft          good           dry             dry   \n",
       "4          soft          good      seasonal        seasonal   \n",
       "\n",
       "                 source           source_type  source_class  \\\n",
       "0                spring                spring   groundwater   \n",
       "1  rainwater harvesting  rainwater harvesting       surface   \n",
       "2                   dam                   dam       surface   \n",
       "3           machine dbh              borehole   groundwater   \n",
       "4  rainwater harvesting  rainwater harvesting       surface   \n",
       "\n",
       "               waterpoint_type waterpoint_type_group  \n",
       "0           communal standpipe    communal standpipe  \n",
       "1           communal standpipe    communal standpipe  \n",
       "2  communal standpipe multiple    communal standpipe  \n",
       "3  communal standpipe multiple    communal standpipe  \n",
       "4           communal standpipe    communal standpipe  \n",
       "\n",
       "[5 rows x 40 columns]"
      ]
     },
     "execution_count": 172,
     "metadata": {},
     "output_type": "execute_result"
    }
   ],
   "source": [
    "# Visualizamos las tablas para obtener una idea de las variables y tipos de datos\n",
    "\n",
    "X_train.head()"
   ]
  },
  {
   "cell_type": "code",
   "execution_count": 173,
   "id": "7f13f435-4289-4881-8728-f8dee53a2767",
   "metadata": {},
   "outputs": [
    {
     "data": {
      "text/html": [
       "<div>\n",
       "<style scoped>\n",
       "    .dataframe tbody tr th:only-of-type {\n",
       "        vertical-align: middle;\n",
       "    }\n",
       "\n",
       "    .dataframe tbody tr th {\n",
       "        vertical-align: top;\n",
       "    }\n",
       "\n",
       "    .dataframe thead th {\n",
       "        text-align: right;\n",
       "    }\n",
       "</style>\n",
       "<table border=\"1\" class=\"dataframe\">\n",
       "  <thead>\n",
       "    <tr style=\"text-align: right;\">\n",
       "      <th></th>\n",
       "      <th>id</th>\n",
       "      <th>status_group</th>\n",
       "    </tr>\n",
       "  </thead>\n",
       "  <tbody>\n",
       "    <tr>\n",
       "      <th>0</th>\n",
       "      <td>69572</td>\n",
       "      <td>functional</td>\n",
       "    </tr>\n",
       "    <tr>\n",
       "      <th>1</th>\n",
       "      <td>8776</td>\n",
       "      <td>functional</td>\n",
       "    </tr>\n",
       "    <tr>\n",
       "      <th>2</th>\n",
       "      <td>34310</td>\n",
       "      <td>functional</td>\n",
       "    </tr>\n",
       "    <tr>\n",
       "      <th>3</th>\n",
       "      <td>67743</td>\n",
       "      <td>non functional</td>\n",
       "    </tr>\n",
       "    <tr>\n",
       "      <th>4</th>\n",
       "      <td>19728</td>\n",
       "      <td>functional</td>\n",
       "    </tr>\n",
       "  </tbody>\n",
       "</table>\n",
       "</div>"
      ],
      "text/plain": [
       "      id    status_group\n",
       "0  69572      functional\n",
       "1   8776      functional\n",
       "2  34310      functional\n",
       "3  67743  non functional\n",
       "4  19728      functional"
      ]
     },
     "execution_count": 173,
     "metadata": {},
     "output_type": "execute_result"
    }
   ],
   "source": [
    "Y_train.head()"
   ]
  },
  {
   "cell_type": "code",
   "execution_count": 174,
   "id": "d5ceb439-cf99-4613-b7dd-a33e1fb57c14",
   "metadata": {},
   "outputs": [
    {
     "data": {
      "text/html": [
       "<div>\n",
       "<style scoped>\n",
       "    .dataframe tbody tr th:only-of-type {\n",
       "        vertical-align: middle;\n",
       "    }\n",
       "\n",
       "    .dataframe tbody tr th {\n",
       "        vertical-align: top;\n",
       "    }\n",
       "\n",
       "    .dataframe thead th {\n",
       "        text-align: right;\n",
       "    }\n",
       "</style>\n",
       "<table border=\"1\" class=\"dataframe\">\n",
       "  <thead>\n",
       "    <tr style=\"text-align: right;\">\n",
       "      <th></th>\n",
       "      <th>id</th>\n",
       "      <th>amount_tsh</th>\n",
       "      <th>date_recorded</th>\n",
       "      <th>funder</th>\n",
       "      <th>gps_height</th>\n",
       "      <th>installer</th>\n",
       "      <th>longitude</th>\n",
       "      <th>latitude</th>\n",
       "      <th>wpt_name</th>\n",
       "      <th>num_private</th>\n",
       "      <th>...</th>\n",
       "      <th>payment_type</th>\n",
       "      <th>water_quality</th>\n",
       "      <th>quality_group</th>\n",
       "      <th>quantity</th>\n",
       "      <th>quantity_group</th>\n",
       "      <th>source</th>\n",
       "      <th>source_type</th>\n",
       "      <th>source_class</th>\n",
       "      <th>waterpoint_type</th>\n",
       "      <th>waterpoint_type_group</th>\n",
       "    </tr>\n",
       "  </thead>\n",
       "  <tbody>\n",
       "    <tr>\n",
       "      <th>0</th>\n",
       "      <td>50785</td>\n",
       "      <td>0.0</td>\n",
       "      <td>2013-02-04</td>\n",
       "      <td>Dmdd</td>\n",
       "      <td>1996</td>\n",
       "      <td>DMDD</td>\n",
       "      <td>35.290799</td>\n",
       "      <td>-4.059696</td>\n",
       "      <td>Dinamu Secondary School</td>\n",
       "      <td>0</td>\n",
       "      <td>...</td>\n",
       "      <td>never pay</td>\n",
       "      <td>soft</td>\n",
       "      <td>good</td>\n",
       "      <td>seasonal</td>\n",
       "      <td>seasonal</td>\n",
       "      <td>rainwater harvesting</td>\n",
       "      <td>rainwater harvesting</td>\n",
       "      <td>surface</td>\n",
       "      <td>other</td>\n",
       "      <td>other</td>\n",
       "    </tr>\n",
       "    <tr>\n",
       "      <th>1</th>\n",
       "      <td>51630</td>\n",
       "      <td>0.0</td>\n",
       "      <td>2013-02-04</td>\n",
       "      <td>Government Of Tanzania</td>\n",
       "      <td>1569</td>\n",
       "      <td>DWE</td>\n",
       "      <td>36.656709</td>\n",
       "      <td>-3.309214</td>\n",
       "      <td>Kimnyak</td>\n",
       "      <td>0</td>\n",
       "      <td>...</td>\n",
       "      <td>never pay</td>\n",
       "      <td>soft</td>\n",
       "      <td>good</td>\n",
       "      <td>insufficient</td>\n",
       "      <td>insufficient</td>\n",
       "      <td>spring</td>\n",
       "      <td>spring</td>\n",
       "      <td>groundwater</td>\n",
       "      <td>communal standpipe</td>\n",
       "      <td>communal standpipe</td>\n",
       "    </tr>\n",
       "    <tr>\n",
       "      <th>2</th>\n",
       "      <td>17168</td>\n",
       "      <td>0.0</td>\n",
       "      <td>2013-02-01</td>\n",
       "      <td>NaN</td>\n",
       "      <td>1567</td>\n",
       "      <td>NaN</td>\n",
       "      <td>34.767863</td>\n",
       "      <td>-5.004344</td>\n",
       "      <td>Puma Secondary</td>\n",
       "      <td>0</td>\n",
       "      <td>...</td>\n",
       "      <td>never pay</td>\n",
       "      <td>soft</td>\n",
       "      <td>good</td>\n",
       "      <td>insufficient</td>\n",
       "      <td>insufficient</td>\n",
       "      <td>rainwater harvesting</td>\n",
       "      <td>rainwater harvesting</td>\n",
       "      <td>surface</td>\n",
       "      <td>other</td>\n",
       "      <td>other</td>\n",
       "    </tr>\n",
       "    <tr>\n",
       "      <th>3</th>\n",
       "      <td>45559</td>\n",
       "      <td>0.0</td>\n",
       "      <td>2013-01-22</td>\n",
       "      <td>Finn Water</td>\n",
       "      <td>267</td>\n",
       "      <td>FINN WATER</td>\n",
       "      <td>38.058046</td>\n",
       "      <td>-9.418672</td>\n",
       "      <td>Kwa Mzee Pange</td>\n",
       "      <td>0</td>\n",
       "      <td>...</td>\n",
       "      <td>unknown</td>\n",
       "      <td>soft</td>\n",
       "      <td>good</td>\n",
       "      <td>dry</td>\n",
       "      <td>dry</td>\n",
       "      <td>shallow well</td>\n",
       "      <td>shallow well</td>\n",
       "      <td>groundwater</td>\n",
       "      <td>other</td>\n",
       "      <td>other</td>\n",
       "    </tr>\n",
       "    <tr>\n",
       "      <th>4</th>\n",
       "      <td>49871</td>\n",
       "      <td>500.0</td>\n",
       "      <td>2013-03-27</td>\n",
       "      <td>Bruder</td>\n",
       "      <td>1260</td>\n",
       "      <td>BRUDER</td>\n",
       "      <td>35.006123</td>\n",
       "      <td>-10.950412</td>\n",
       "      <td>Kwa Mzee Turuka</td>\n",
       "      <td>0</td>\n",
       "      <td>...</td>\n",
       "      <td>monthly</td>\n",
       "      <td>soft</td>\n",
       "      <td>good</td>\n",
       "      <td>enough</td>\n",
       "      <td>enough</td>\n",
       "      <td>spring</td>\n",
       "      <td>spring</td>\n",
       "      <td>groundwater</td>\n",
       "      <td>communal standpipe</td>\n",
       "      <td>communal standpipe</td>\n",
       "    </tr>\n",
       "  </tbody>\n",
       "</table>\n",
       "<p>5 rows × 40 columns</p>\n",
       "</div>"
      ],
      "text/plain": [
       "      id  amount_tsh date_recorded                  funder  gps_height  \\\n",
       "0  50785         0.0    2013-02-04                    Dmdd        1996   \n",
       "1  51630         0.0    2013-02-04  Government Of Tanzania        1569   \n",
       "2  17168         0.0    2013-02-01                     NaN        1567   \n",
       "3  45559         0.0    2013-01-22              Finn Water         267   \n",
       "4  49871       500.0    2013-03-27                  Bruder        1260   \n",
       "\n",
       "    installer  longitude   latitude                 wpt_name  num_private  \\\n",
       "0        DMDD  35.290799  -4.059696  Dinamu Secondary School            0   \n",
       "1         DWE  36.656709  -3.309214                  Kimnyak            0   \n",
       "2         NaN  34.767863  -5.004344           Puma Secondary            0   \n",
       "3  FINN WATER  38.058046  -9.418672           Kwa Mzee Pange            0   \n",
       "4      BRUDER  35.006123 -10.950412          Kwa Mzee Turuka            0   \n",
       "\n",
       "   ... payment_type water_quality quality_group      quantity  quantity_group  \\\n",
       "0  ...    never pay          soft          good      seasonal        seasonal   \n",
       "1  ...    never pay          soft          good  insufficient    insufficient   \n",
       "2  ...    never pay          soft          good  insufficient    insufficient   \n",
       "3  ...      unknown          soft          good           dry             dry   \n",
       "4  ...      monthly          soft          good        enough          enough   \n",
       "\n",
       "                 source           source_type  source_class  \\\n",
       "0  rainwater harvesting  rainwater harvesting       surface   \n",
       "1                spring                spring   groundwater   \n",
       "2  rainwater harvesting  rainwater harvesting       surface   \n",
       "3          shallow well          shallow well   groundwater   \n",
       "4                spring                spring   groundwater   \n",
       "\n",
       "      waterpoint_type waterpoint_type_group  \n",
       "0               other                 other  \n",
       "1  communal standpipe    communal standpipe  \n",
       "2               other                 other  \n",
       "3               other                 other  \n",
       "4  communal standpipe    communal standpipe  \n",
       "\n",
       "[5 rows x 40 columns]"
      ]
     },
     "execution_count": 174,
     "metadata": {},
     "output_type": "execute_result"
    }
   ],
   "source": [
    "X_test.head()"
   ]
  },
  {
   "cell_type": "code",
   "execution_count": 175,
   "id": "87328c24-d0c2-4d40-8dfe-71fef83da537",
   "metadata": {},
   "outputs": [
    {
     "name": "stdout",
     "output_type": "stream",
     "text": [
      "Bombas presentes en X_train e Y_train\n",
      " id\n",
      "True    59400\n",
      "Name: count, dtype: int64\n",
      "Bombas presentes en X_train y X_test\n",
      " id\n",
      "False    59400\n",
      "Name: count, dtype: int64\n"
     ]
    }
   ],
   "source": [
    "# Investigamos la posibilidad de que las mismas bombas se encuentren dentro de los diferentes datasets cargados\n",
    "\n",
    "# Cuántas de las bombas que tienes en X_train también tienen registros en tu tabla de Y_train\n",
    "print('Bombas presentes en X_train e Y_train\\n', X_train['id'].isin(Y_train['id']).value_counts())\n",
    "\n",
    "# Sí están contenidas ya que salen todas las variables como True, 59400 \n",
    "\n",
    "# Cuántas de las bombas que tienes en X_train también tienen registros en tu tabla de X_test\n",
    "print('Bombas presentes en X_train y X_test\\n', X_train['id'].isin(X_test['id']).value_counts())\n",
    "\n",
    "# No hay porque no tiene sentido que el conjunto X_train tenga bombas iguales que en el X_test"
   ]
  },
  {
   "cell_type": "code",
   "execution_count": 176,
   "id": "ec2352ec-a835-4d32-9245-09cad7691fb6",
   "metadata": {},
   "outputs": [
    {
     "data": {
      "text/plain": [
       "id                           0\n",
       "amount_tsh                   0\n",
       "date_recorded                0\n",
       "funder                    3637\n",
       "gps_height                   0\n",
       "installer                 3655\n",
       "longitude                    0\n",
       "latitude                     0\n",
       "wpt_name                     2\n",
       "num_private                  0\n",
       "basin                        0\n",
       "subvillage                 371\n",
       "region                       0\n",
       "region_code                  0\n",
       "district_code                0\n",
       "lga                          0\n",
       "ward                         0\n",
       "population                   0\n",
       "public_meeting            3334\n",
       "recorded_by                  0\n",
       "scheme_management         3878\n",
       "scheme_name              28810\n",
       "permit                    3056\n",
       "construction_year            0\n",
       "extraction_type              0\n",
       "extraction_type_group        0\n",
       "extraction_type_class        0\n",
       "management                   0\n",
       "management_group             0\n",
       "payment                      0\n",
       "payment_type                 0\n",
       "water_quality                0\n",
       "quality_group                0\n",
       "quantity                     0\n",
       "quantity_group               0\n",
       "source                       0\n",
       "source_type                  0\n",
       "source_class                 0\n",
       "waterpoint_type              0\n",
       "waterpoint_type_group        0\n",
       "dtype: int64"
      ]
     },
     "execution_count": 176,
     "metadata": {},
     "output_type": "execute_result"
    }
   ],
   "source": [
    "#Vemos si existen nulos en el X_train, X_test e Y_train\n",
    "\n",
    "X_train.isnull().sum()"
   ]
  },
  {
   "cell_type": "code",
   "execution_count": 177,
   "id": "4d9fcce1-a7c8-411c-99b6-abaeb8cfae9d",
   "metadata": {
    "scrolled": true
   },
   "outputs": [
    {
     "data": {
      "text/plain": [
       "id                          0\n",
       "amount_tsh                  0\n",
       "date_recorded               0\n",
       "funder                    870\n",
       "gps_height                  0\n",
       "installer                 877\n",
       "longitude                   0\n",
       "latitude                    0\n",
       "wpt_name                    0\n",
       "num_private                 0\n",
       "basin                       0\n",
       "subvillage                 99\n",
       "region                      0\n",
       "region_code                 0\n",
       "district_code               0\n",
       "lga                         0\n",
       "ward                        0\n",
       "population                  0\n",
       "public_meeting            821\n",
       "recorded_by                 0\n",
       "scheme_management         969\n",
       "scheme_name              7242\n",
       "permit                    737\n",
       "construction_year           0\n",
       "extraction_type             0\n",
       "extraction_type_group       0\n",
       "extraction_type_class       0\n",
       "management                  0\n",
       "management_group            0\n",
       "payment                     0\n",
       "payment_type                0\n",
       "water_quality               0\n",
       "quality_group               0\n",
       "quantity                    0\n",
       "quantity_group              0\n",
       "source                      0\n",
       "source_type                 0\n",
       "source_class                0\n",
       "waterpoint_type             0\n",
       "waterpoint_type_group       0\n",
       "dtype: int64"
      ]
     },
     "execution_count": 177,
     "metadata": {},
     "output_type": "execute_result"
    }
   ],
   "source": [
    "X_test.isnull().sum()"
   ]
  },
  {
   "cell_type": "markdown",
   "id": "b490122b-b516-42c2-8d4c-580046d858f8",
   "metadata": {},
   "source": [
    "La cantidad de nulos de las variables X_train y X_test no coinciden. A su vez, coinciden las variables a las que les faltan nulos (excepto por la variable \"wpt_name\" de X_train, que tiene 2 nulos y en X_test no tiene)\n",
    "\n",
    "Para poder gestionar los nulos se van a tratar de manera independiente X_train y X_test, aplicando las mismas normas para eliminar o imputar nulos que pertenezcan a la misma variable (así se evitan errores o inconsistencias entre ambas tablas de datos) "
   ]
  },
  {
   "cell_type": "code",
   "execution_count": 178,
   "id": "93e94846-34ee-46ac-80f7-9e5666a53128",
   "metadata": {},
   "outputs": [
    {
     "data": {
      "text/plain": [
       "id              0\n",
       "status_group    0\n",
       "dtype: int64"
      ]
     },
     "execution_count": 178,
     "metadata": {},
     "output_type": "execute_result"
    }
   ],
   "source": [
    "Y_train.isnull().sum()"
   ]
  },
  {
   "cell_type": "markdown",
   "id": "d53e893b-272b-4dbf-b292-3b3be2f0b90a",
   "metadata": {},
   "source": [
    "Como sabemos que Y_train no tiene nulos y sus id se corresponden con los id de X_train podemos juntar ambas tablas con un left join, creando una tabla principal llamada X_Y_train."
   ]
  },
  {
   "cell_type": "code",
   "execution_count": 179,
   "id": "f0073abd-9ca8-456b-9288-c7c8842ab58e",
   "metadata": {},
   "outputs": [],
   "source": [
    "X_Y_train = pd.merge(X_train, Y_train, on = \"id\", how = \"left\")"
   ]
  },
  {
   "cell_type": "code",
   "execution_count": 180,
   "id": "e780ca43-a73c-4b80-b91c-036534cfeeca",
   "metadata": {},
   "outputs": [
    {
     "data": {
      "text/html": [
       "<div>\n",
       "<style scoped>\n",
       "    .dataframe tbody tr th:only-of-type {\n",
       "        vertical-align: middle;\n",
       "    }\n",
       "\n",
       "    .dataframe tbody tr th {\n",
       "        vertical-align: top;\n",
       "    }\n",
       "\n",
       "    .dataframe thead th {\n",
       "        text-align: right;\n",
       "    }\n",
       "</style>\n",
       "<table border=\"1\" class=\"dataframe\">\n",
       "  <thead>\n",
       "    <tr style=\"text-align: right;\">\n",
       "      <th></th>\n",
       "      <th>id</th>\n",
       "      <th>amount_tsh</th>\n",
       "      <th>date_recorded</th>\n",
       "      <th>funder</th>\n",
       "      <th>gps_height</th>\n",
       "      <th>installer</th>\n",
       "      <th>longitude</th>\n",
       "      <th>latitude</th>\n",
       "      <th>wpt_name</th>\n",
       "      <th>num_private</th>\n",
       "      <th>...</th>\n",
       "      <th>water_quality</th>\n",
       "      <th>quality_group</th>\n",
       "      <th>quantity</th>\n",
       "      <th>quantity_group</th>\n",
       "      <th>source</th>\n",
       "      <th>source_type</th>\n",
       "      <th>source_class</th>\n",
       "      <th>waterpoint_type</th>\n",
       "      <th>waterpoint_type_group</th>\n",
       "      <th>status_group</th>\n",
       "    </tr>\n",
       "  </thead>\n",
       "  <tbody>\n",
       "    <tr>\n",
       "      <th>0</th>\n",
       "      <td>69572</td>\n",
       "      <td>6000.0</td>\n",
       "      <td>2011-03-14</td>\n",
       "      <td>Roman</td>\n",
       "      <td>1390</td>\n",
       "      <td>Roman</td>\n",
       "      <td>34.938093</td>\n",
       "      <td>-9.856322</td>\n",
       "      <td>none</td>\n",
       "      <td>0</td>\n",
       "      <td>...</td>\n",
       "      <td>soft</td>\n",
       "      <td>good</td>\n",
       "      <td>enough</td>\n",
       "      <td>enough</td>\n",
       "      <td>spring</td>\n",
       "      <td>spring</td>\n",
       "      <td>groundwater</td>\n",
       "      <td>communal standpipe</td>\n",
       "      <td>communal standpipe</td>\n",
       "      <td>functional</td>\n",
       "    </tr>\n",
       "    <tr>\n",
       "      <th>1</th>\n",
       "      <td>8776</td>\n",
       "      <td>0.0</td>\n",
       "      <td>2013-03-06</td>\n",
       "      <td>Grumeti</td>\n",
       "      <td>1399</td>\n",
       "      <td>GRUMETI</td>\n",
       "      <td>34.698766</td>\n",
       "      <td>-2.147466</td>\n",
       "      <td>Zahanati</td>\n",
       "      <td>0</td>\n",
       "      <td>...</td>\n",
       "      <td>soft</td>\n",
       "      <td>good</td>\n",
       "      <td>insufficient</td>\n",
       "      <td>insufficient</td>\n",
       "      <td>rainwater harvesting</td>\n",
       "      <td>rainwater harvesting</td>\n",
       "      <td>surface</td>\n",
       "      <td>communal standpipe</td>\n",
       "      <td>communal standpipe</td>\n",
       "      <td>functional</td>\n",
       "    </tr>\n",
       "    <tr>\n",
       "      <th>2</th>\n",
       "      <td>34310</td>\n",
       "      <td>25.0</td>\n",
       "      <td>2013-02-25</td>\n",
       "      <td>Lottery Club</td>\n",
       "      <td>686</td>\n",
       "      <td>World vision</td>\n",
       "      <td>37.460664</td>\n",
       "      <td>-3.821329</td>\n",
       "      <td>Kwa Mahundi</td>\n",
       "      <td>0</td>\n",
       "      <td>...</td>\n",
       "      <td>soft</td>\n",
       "      <td>good</td>\n",
       "      <td>enough</td>\n",
       "      <td>enough</td>\n",
       "      <td>dam</td>\n",
       "      <td>dam</td>\n",
       "      <td>surface</td>\n",
       "      <td>communal standpipe multiple</td>\n",
       "      <td>communal standpipe</td>\n",
       "      <td>functional</td>\n",
       "    </tr>\n",
       "    <tr>\n",
       "      <th>3</th>\n",
       "      <td>67743</td>\n",
       "      <td>0.0</td>\n",
       "      <td>2013-01-28</td>\n",
       "      <td>Unicef</td>\n",
       "      <td>263</td>\n",
       "      <td>UNICEF</td>\n",
       "      <td>38.486161</td>\n",
       "      <td>-11.155298</td>\n",
       "      <td>Zahanati Ya Nanyumbu</td>\n",
       "      <td>0</td>\n",
       "      <td>...</td>\n",
       "      <td>soft</td>\n",
       "      <td>good</td>\n",
       "      <td>dry</td>\n",
       "      <td>dry</td>\n",
       "      <td>machine dbh</td>\n",
       "      <td>borehole</td>\n",
       "      <td>groundwater</td>\n",
       "      <td>communal standpipe multiple</td>\n",
       "      <td>communal standpipe</td>\n",
       "      <td>non functional</td>\n",
       "    </tr>\n",
       "    <tr>\n",
       "      <th>4</th>\n",
       "      <td>19728</td>\n",
       "      <td>0.0</td>\n",
       "      <td>2011-07-13</td>\n",
       "      <td>Action In A</td>\n",
       "      <td>0</td>\n",
       "      <td>Artisan</td>\n",
       "      <td>31.130847</td>\n",
       "      <td>-1.825359</td>\n",
       "      <td>Shuleni</td>\n",
       "      <td>0</td>\n",
       "      <td>...</td>\n",
       "      <td>soft</td>\n",
       "      <td>good</td>\n",
       "      <td>seasonal</td>\n",
       "      <td>seasonal</td>\n",
       "      <td>rainwater harvesting</td>\n",
       "      <td>rainwater harvesting</td>\n",
       "      <td>surface</td>\n",
       "      <td>communal standpipe</td>\n",
       "      <td>communal standpipe</td>\n",
       "      <td>functional</td>\n",
       "    </tr>\n",
       "  </tbody>\n",
       "</table>\n",
       "<p>5 rows × 41 columns</p>\n",
       "</div>"
      ],
      "text/plain": [
       "      id  amount_tsh date_recorded        funder  gps_height     installer  \\\n",
       "0  69572      6000.0    2011-03-14         Roman        1390         Roman   \n",
       "1   8776         0.0    2013-03-06       Grumeti        1399       GRUMETI   \n",
       "2  34310        25.0    2013-02-25  Lottery Club         686  World vision   \n",
       "3  67743         0.0    2013-01-28        Unicef         263        UNICEF   \n",
       "4  19728         0.0    2011-07-13   Action In A           0       Artisan   \n",
       "\n",
       "   longitude   latitude              wpt_name  num_private  ... water_quality  \\\n",
       "0  34.938093  -9.856322                  none            0  ...          soft   \n",
       "1  34.698766  -2.147466              Zahanati            0  ...          soft   \n",
       "2  37.460664  -3.821329           Kwa Mahundi            0  ...          soft   \n",
       "3  38.486161 -11.155298  Zahanati Ya Nanyumbu            0  ...          soft   \n",
       "4  31.130847  -1.825359               Shuleni            0  ...          soft   \n",
       "\n",
       "  quality_group      quantity  quantity_group                source  \\\n",
       "0          good        enough          enough                spring   \n",
       "1          good  insufficient    insufficient  rainwater harvesting   \n",
       "2          good        enough          enough                   dam   \n",
       "3          good           dry             dry           machine dbh   \n",
       "4          good      seasonal        seasonal  rainwater harvesting   \n",
       "\n",
       "            source_type source_class              waterpoint_type  \\\n",
       "0                spring  groundwater           communal standpipe   \n",
       "1  rainwater harvesting      surface           communal standpipe   \n",
       "2                   dam      surface  communal standpipe multiple   \n",
       "3              borehole  groundwater  communal standpipe multiple   \n",
       "4  rainwater harvesting      surface           communal standpipe   \n",
       "\n",
       "  waterpoint_type_group    status_group  \n",
       "0    communal standpipe      functional  \n",
       "1    communal standpipe      functional  \n",
       "2    communal standpipe      functional  \n",
       "3    communal standpipe  non functional  \n",
       "4    communal standpipe      functional  \n",
       "\n",
       "[5 rows x 41 columns]"
      ]
     },
     "execution_count": 180,
     "metadata": {},
     "output_type": "execute_result"
    }
   ],
   "source": [
    "# La mostramos\n",
    "X_Y_train.head()"
   ]
  },
  {
   "cell_type": "code",
   "execution_count": 181,
   "id": "536a2cee-efaa-49c3-acbf-76e003701365",
   "metadata": {},
   "outputs": [
    {
     "data": {
      "text/plain": [
       "(59400, 41)"
      ]
     },
     "execution_count": 181,
     "metadata": {},
     "output_type": "execute_result"
    }
   ],
   "source": [
    "# Vemos su tamaño\n",
    "X_Y_train.shape"
   ]
  },
  {
   "cell_type": "markdown",
   "id": "3da60fe2-8cae-41ba-859d-fd8f44fb8f74",
   "metadata": {},
   "source": [
    "# Pre procesado y  limpieza de los datos"
   ]
  },
  {
   "cell_type": "code",
   "execution_count": 182,
   "id": "8b4f1dfe-d596-479f-a51f-712c415b5dc0",
   "metadata": {},
   "outputs": [
    {
     "name": "stdout",
     "output_type": "stream",
     "text": [
      "<class 'pandas.core.frame.DataFrame'>\n",
      "RangeIndex: 59400 entries, 0 to 59399\n",
      "Data columns (total 41 columns):\n",
      " #   Column                 Non-Null Count  Dtype  \n",
      "---  ------                 --------------  -----  \n",
      " 0   id                     59400 non-null  int64  \n",
      " 1   amount_tsh             59400 non-null  float64\n",
      " 2   date_recorded          59400 non-null  object \n",
      " 3   funder                 55763 non-null  object \n",
      " 4   gps_height             59400 non-null  int64  \n",
      " 5   installer              55745 non-null  object \n",
      " 6   longitude              59400 non-null  float64\n",
      " 7   latitude               59400 non-null  float64\n",
      " 8   wpt_name               59398 non-null  object \n",
      " 9   num_private            59400 non-null  int64  \n",
      " 10  basin                  59400 non-null  object \n",
      " 11  subvillage             59029 non-null  object \n",
      " 12  region                 59400 non-null  object \n",
      " 13  region_code            59400 non-null  int64  \n",
      " 14  district_code          59400 non-null  int64  \n",
      " 15  lga                    59400 non-null  object \n",
      " 16  ward                   59400 non-null  object \n",
      " 17  population             59400 non-null  int64  \n",
      " 18  public_meeting         56066 non-null  object \n",
      " 19  recorded_by            59400 non-null  object \n",
      " 20  scheme_management      55522 non-null  object \n",
      " 21  scheme_name            30590 non-null  object \n",
      " 22  permit                 56344 non-null  object \n",
      " 23  construction_year      59400 non-null  int64  \n",
      " 24  extraction_type        59400 non-null  object \n",
      " 25  extraction_type_group  59400 non-null  object \n",
      " 26  extraction_type_class  59400 non-null  object \n",
      " 27  management             59400 non-null  object \n",
      " 28  management_group       59400 non-null  object \n",
      " 29  payment                59400 non-null  object \n",
      " 30  payment_type           59400 non-null  object \n",
      " 31  water_quality          59400 non-null  object \n",
      " 32  quality_group          59400 non-null  object \n",
      " 33  quantity               59400 non-null  object \n",
      " 34  quantity_group         59400 non-null  object \n",
      " 35  source                 59400 non-null  object \n",
      " 36  source_type            59400 non-null  object \n",
      " 37  source_class           59400 non-null  object \n",
      " 38  waterpoint_type        59400 non-null  object \n",
      " 39  waterpoint_type_group  59400 non-null  object \n",
      " 40  status_group           59400 non-null  object \n",
      "dtypes: float64(3), int64(7), object(31)\n",
      "memory usage: 18.6+ MB\n"
     ]
    }
   ],
   "source": [
    "# Vemos información sobre el tipo de variables que hay en la tabla principal\n",
    "\n",
    "X_Y_train.info()"
   ]
  },
  {
   "cell_type": "markdown",
   "id": "3025aea9-da9d-436f-b099-f5caac42777c",
   "metadata": {},
   "source": [
    "Existen muchas variables objeto y varias variables con nulos"
   ]
  },
  {
   "cell_type": "code",
   "execution_count": 183,
   "id": "c2dd6b4f-9b54-4203-bd68-e6a758be2fc5",
   "metadata": {},
   "outputs": [],
   "source": [
    "# Dividimos las variables numéricas (num_cols) y categóricas (cat_cols) para proceder al tratamiento de los nulos y posteriormente visualizamos sus datos\n",
    "\n",
    "cat_cols= X_Y_train.select_dtypes(include=['object','category']).columns\n",
    "num_cols = X_Y_train.select_dtypes(exclude=['object','category']).columns"
   ]
  },
  {
   "cell_type": "code",
   "execution_count": 184,
   "id": "12bbb1f2-5516-4c82-be21-bd819b8aaf1d",
   "metadata": {},
   "outputs": [
    {
     "data": {
      "text/html": [
       "<div>\n",
       "<style scoped>\n",
       "    .dataframe tbody tr th:only-of-type {\n",
       "        vertical-align: middle;\n",
       "    }\n",
       "\n",
       "    .dataframe tbody tr th {\n",
       "        vertical-align: top;\n",
       "    }\n",
       "\n",
       "    .dataframe thead th {\n",
       "        text-align: right;\n",
       "    }\n",
       "</style>\n",
       "<table border=\"1\" class=\"dataframe\">\n",
       "  <thead>\n",
       "    <tr style=\"text-align: right;\">\n",
       "      <th></th>\n",
       "      <th>count</th>\n",
       "      <th>unique</th>\n",
       "      <th>top</th>\n",
       "      <th>freq</th>\n",
       "    </tr>\n",
       "  </thead>\n",
       "  <tbody>\n",
       "    <tr>\n",
       "      <th>date_recorded</th>\n",
       "      <td>59400</td>\n",
       "      <td>356</td>\n",
       "      <td>2011-03-15</td>\n",
       "      <td>572</td>\n",
       "    </tr>\n",
       "    <tr>\n",
       "      <th>funder</th>\n",
       "      <td>55763</td>\n",
       "      <td>1896</td>\n",
       "      <td>Government Of Tanzania</td>\n",
       "      <td>9084</td>\n",
       "    </tr>\n",
       "    <tr>\n",
       "      <th>installer</th>\n",
       "      <td>55745</td>\n",
       "      <td>2145</td>\n",
       "      <td>DWE</td>\n",
       "      <td>17402</td>\n",
       "    </tr>\n",
       "    <tr>\n",
       "      <th>wpt_name</th>\n",
       "      <td>59398</td>\n",
       "      <td>37399</td>\n",
       "      <td>none</td>\n",
       "      <td>3563</td>\n",
       "    </tr>\n",
       "    <tr>\n",
       "      <th>basin</th>\n",
       "      <td>59400</td>\n",
       "      <td>9</td>\n",
       "      <td>Lake Victoria</td>\n",
       "      <td>10248</td>\n",
       "    </tr>\n",
       "    <tr>\n",
       "      <th>subvillage</th>\n",
       "      <td>59029</td>\n",
       "      <td>19287</td>\n",
       "      <td>Madukani</td>\n",
       "      <td>508</td>\n",
       "    </tr>\n",
       "    <tr>\n",
       "      <th>region</th>\n",
       "      <td>59400</td>\n",
       "      <td>21</td>\n",
       "      <td>Iringa</td>\n",
       "      <td>5294</td>\n",
       "    </tr>\n",
       "    <tr>\n",
       "      <th>lga</th>\n",
       "      <td>59400</td>\n",
       "      <td>125</td>\n",
       "      <td>Njombe</td>\n",
       "      <td>2503</td>\n",
       "    </tr>\n",
       "    <tr>\n",
       "      <th>ward</th>\n",
       "      <td>59400</td>\n",
       "      <td>2092</td>\n",
       "      <td>Igosi</td>\n",
       "      <td>307</td>\n",
       "    </tr>\n",
       "    <tr>\n",
       "      <th>public_meeting</th>\n",
       "      <td>56066</td>\n",
       "      <td>2</td>\n",
       "      <td>True</td>\n",
       "      <td>51011</td>\n",
       "    </tr>\n",
       "    <tr>\n",
       "      <th>recorded_by</th>\n",
       "      <td>59400</td>\n",
       "      <td>1</td>\n",
       "      <td>GeoData Consultants Ltd</td>\n",
       "      <td>59400</td>\n",
       "    </tr>\n",
       "    <tr>\n",
       "      <th>scheme_management</th>\n",
       "      <td>55522</td>\n",
       "      <td>11</td>\n",
       "      <td>VWC</td>\n",
       "      <td>36793</td>\n",
       "    </tr>\n",
       "    <tr>\n",
       "      <th>scheme_name</th>\n",
       "      <td>30590</td>\n",
       "      <td>2695</td>\n",
       "      <td>K</td>\n",
       "      <td>682</td>\n",
       "    </tr>\n",
       "    <tr>\n",
       "      <th>permit</th>\n",
       "      <td>56344</td>\n",
       "      <td>2</td>\n",
       "      <td>True</td>\n",
       "      <td>38852</td>\n",
       "    </tr>\n",
       "    <tr>\n",
       "      <th>extraction_type</th>\n",
       "      <td>59400</td>\n",
       "      <td>18</td>\n",
       "      <td>gravity</td>\n",
       "      <td>26780</td>\n",
       "    </tr>\n",
       "    <tr>\n",
       "      <th>extraction_type_group</th>\n",
       "      <td>59400</td>\n",
       "      <td>13</td>\n",
       "      <td>gravity</td>\n",
       "      <td>26780</td>\n",
       "    </tr>\n",
       "    <tr>\n",
       "      <th>extraction_type_class</th>\n",
       "      <td>59400</td>\n",
       "      <td>7</td>\n",
       "      <td>gravity</td>\n",
       "      <td>26780</td>\n",
       "    </tr>\n",
       "    <tr>\n",
       "      <th>management</th>\n",
       "      <td>59400</td>\n",
       "      <td>12</td>\n",
       "      <td>vwc</td>\n",
       "      <td>40507</td>\n",
       "    </tr>\n",
       "    <tr>\n",
       "      <th>management_group</th>\n",
       "      <td>59400</td>\n",
       "      <td>5</td>\n",
       "      <td>user-group</td>\n",
       "      <td>52490</td>\n",
       "    </tr>\n",
       "    <tr>\n",
       "      <th>payment</th>\n",
       "      <td>59400</td>\n",
       "      <td>7</td>\n",
       "      <td>never pay</td>\n",
       "      <td>25348</td>\n",
       "    </tr>\n",
       "    <tr>\n",
       "      <th>payment_type</th>\n",
       "      <td>59400</td>\n",
       "      <td>7</td>\n",
       "      <td>never pay</td>\n",
       "      <td>25348</td>\n",
       "    </tr>\n",
       "    <tr>\n",
       "      <th>water_quality</th>\n",
       "      <td>59400</td>\n",
       "      <td>8</td>\n",
       "      <td>soft</td>\n",
       "      <td>50818</td>\n",
       "    </tr>\n",
       "    <tr>\n",
       "      <th>quality_group</th>\n",
       "      <td>59400</td>\n",
       "      <td>6</td>\n",
       "      <td>good</td>\n",
       "      <td>50818</td>\n",
       "    </tr>\n",
       "    <tr>\n",
       "      <th>quantity</th>\n",
       "      <td>59400</td>\n",
       "      <td>5</td>\n",
       "      <td>enough</td>\n",
       "      <td>33186</td>\n",
       "    </tr>\n",
       "    <tr>\n",
       "      <th>quantity_group</th>\n",
       "      <td>59400</td>\n",
       "      <td>5</td>\n",
       "      <td>enough</td>\n",
       "      <td>33186</td>\n",
       "    </tr>\n",
       "    <tr>\n",
       "      <th>source</th>\n",
       "      <td>59400</td>\n",
       "      <td>10</td>\n",
       "      <td>spring</td>\n",
       "      <td>17021</td>\n",
       "    </tr>\n",
       "    <tr>\n",
       "      <th>source_type</th>\n",
       "      <td>59400</td>\n",
       "      <td>7</td>\n",
       "      <td>spring</td>\n",
       "      <td>17021</td>\n",
       "    </tr>\n",
       "    <tr>\n",
       "      <th>source_class</th>\n",
       "      <td>59400</td>\n",
       "      <td>3</td>\n",
       "      <td>groundwater</td>\n",
       "      <td>45794</td>\n",
       "    </tr>\n",
       "    <tr>\n",
       "      <th>waterpoint_type</th>\n",
       "      <td>59400</td>\n",
       "      <td>7</td>\n",
       "      <td>communal standpipe</td>\n",
       "      <td>28522</td>\n",
       "    </tr>\n",
       "    <tr>\n",
       "      <th>waterpoint_type_group</th>\n",
       "      <td>59400</td>\n",
       "      <td>6</td>\n",
       "      <td>communal standpipe</td>\n",
       "      <td>34625</td>\n",
       "    </tr>\n",
       "    <tr>\n",
       "      <th>status_group</th>\n",
       "      <td>59400</td>\n",
       "      <td>3</td>\n",
       "      <td>functional</td>\n",
       "      <td>32259</td>\n",
       "    </tr>\n",
       "  </tbody>\n",
       "</table>\n",
       "</div>"
      ],
      "text/plain": [
       "                       count unique                      top   freq\n",
       "date_recorded          59400    356               2011-03-15    572\n",
       "funder                 55763   1896   Government Of Tanzania   9084\n",
       "installer              55745   2145                      DWE  17402\n",
       "wpt_name               59398  37399                     none   3563\n",
       "basin                  59400      9            Lake Victoria  10248\n",
       "subvillage             59029  19287                 Madukani    508\n",
       "region                 59400     21                   Iringa   5294\n",
       "lga                    59400    125                   Njombe   2503\n",
       "ward                   59400   2092                    Igosi    307\n",
       "public_meeting         56066      2                     True  51011\n",
       "recorded_by            59400      1  GeoData Consultants Ltd  59400\n",
       "scheme_management      55522     11                      VWC  36793\n",
       "scheme_name            30590   2695                        K    682\n",
       "permit                 56344      2                     True  38852\n",
       "extraction_type        59400     18                  gravity  26780\n",
       "extraction_type_group  59400     13                  gravity  26780\n",
       "extraction_type_class  59400      7                  gravity  26780\n",
       "management             59400     12                      vwc  40507\n",
       "management_group       59400      5               user-group  52490\n",
       "payment                59400      7                never pay  25348\n",
       "payment_type           59400      7                never pay  25348\n",
       "water_quality          59400      8                     soft  50818\n",
       "quality_group          59400      6                     good  50818\n",
       "quantity               59400      5                   enough  33186\n",
       "quantity_group         59400      5                   enough  33186\n",
       "source                 59400     10                   spring  17021\n",
       "source_type            59400      7                   spring  17021\n",
       "source_class           59400      3              groundwater  45794\n",
       "waterpoint_type        59400      7       communal standpipe  28522\n",
       "waterpoint_type_group  59400      6       communal standpipe  34625\n",
       "status_group           59400      3               functional  32259"
      ]
     },
     "execution_count": 184,
     "metadata": {},
     "output_type": "execute_result"
    }
   ],
   "source": [
    "(X_Y_train[cat_cols].describe().T)"
   ]
  },
  {
   "cell_type": "code",
   "execution_count": 185,
   "id": "0606dffd-c363-4fbe-8456-a493ff3cacf5",
   "metadata": {},
   "outputs": [
    {
     "data": {
      "text/html": [
       "<div>\n",
       "<style scoped>\n",
       "    .dataframe tbody tr th:only-of-type {\n",
       "        vertical-align: middle;\n",
       "    }\n",
       "\n",
       "    .dataframe tbody tr th {\n",
       "        vertical-align: top;\n",
       "    }\n",
       "\n",
       "    .dataframe thead th {\n",
       "        text-align: right;\n",
       "    }\n",
       "</style>\n",
       "<table border=\"1\" class=\"dataframe\">\n",
       "  <thead>\n",
       "    <tr style=\"text-align: right;\">\n",
       "      <th></th>\n",
       "      <th>count</th>\n",
       "      <th>mean</th>\n",
       "      <th>std</th>\n",
       "      <th>min</th>\n",
       "      <th>25%</th>\n",
       "      <th>50%</th>\n",
       "      <th>75%</th>\n",
       "      <th>max</th>\n",
       "    </tr>\n",
       "  </thead>\n",
       "  <tbody>\n",
       "    <tr>\n",
       "      <th>id</th>\n",
       "      <td>59400.0</td>\n",
       "      <td>37115.131768</td>\n",
       "      <td>21453.128371</td>\n",
       "      <td>0.00000</td>\n",
       "      <td>18519.750000</td>\n",
       "      <td>37061.500000</td>\n",
       "      <td>55656.500000</td>\n",
       "      <td>7.424700e+04</td>\n",
       "    </tr>\n",
       "    <tr>\n",
       "      <th>amount_tsh</th>\n",
       "      <td>59400.0</td>\n",
       "      <td>317.650385</td>\n",
       "      <td>2997.574558</td>\n",
       "      <td>0.00000</td>\n",
       "      <td>0.000000</td>\n",
       "      <td>0.000000</td>\n",
       "      <td>20.000000</td>\n",
       "      <td>3.500000e+05</td>\n",
       "    </tr>\n",
       "    <tr>\n",
       "      <th>gps_height</th>\n",
       "      <td>59400.0</td>\n",
       "      <td>668.297239</td>\n",
       "      <td>693.116350</td>\n",
       "      <td>-90.00000</td>\n",
       "      <td>0.000000</td>\n",
       "      <td>369.000000</td>\n",
       "      <td>1319.250000</td>\n",
       "      <td>2.770000e+03</td>\n",
       "    </tr>\n",
       "    <tr>\n",
       "      <th>longitude</th>\n",
       "      <td>59400.0</td>\n",
       "      <td>34.077427</td>\n",
       "      <td>6.567432</td>\n",
       "      <td>0.00000</td>\n",
       "      <td>33.090347</td>\n",
       "      <td>34.908743</td>\n",
       "      <td>37.178387</td>\n",
       "      <td>4.034519e+01</td>\n",
       "    </tr>\n",
       "    <tr>\n",
       "      <th>latitude</th>\n",
       "      <td>59400.0</td>\n",
       "      <td>-5.706033</td>\n",
       "      <td>2.946019</td>\n",
       "      <td>-11.64944</td>\n",
       "      <td>-8.540621</td>\n",
       "      <td>-5.021597</td>\n",
       "      <td>-3.326156</td>\n",
       "      <td>-2.000000e-08</td>\n",
       "    </tr>\n",
       "    <tr>\n",
       "      <th>num_private</th>\n",
       "      <td>59400.0</td>\n",
       "      <td>0.474141</td>\n",
       "      <td>12.236230</td>\n",
       "      <td>0.00000</td>\n",
       "      <td>0.000000</td>\n",
       "      <td>0.000000</td>\n",
       "      <td>0.000000</td>\n",
       "      <td>1.776000e+03</td>\n",
       "    </tr>\n",
       "    <tr>\n",
       "      <th>region_code</th>\n",
       "      <td>59400.0</td>\n",
       "      <td>15.297003</td>\n",
       "      <td>17.587406</td>\n",
       "      <td>1.00000</td>\n",
       "      <td>5.000000</td>\n",
       "      <td>12.000000</td>\n",
       "      <td>17.000000</td>\n",
       "      <td>9.900000e+01</td>\n",
       "    </tr>\n",
       "    <tr>\n",
       "      <th>district_code</th>\n",
       "      <td>59400.0</td>\n",
       "      <td>5.629747</td>\n",
       "      <td>9.633649</td>\n",
       "      <td>0.00000</td>\n",
       "      <td>2.000000</td>\n",
       "      <td>3.000000</td>\n",
       "      <td>5.000000</td>\n",
       "      <td>8.000000e+01</td>\n",
       "    </tr>\n",
       "    <tr>\n",
       "      <th>population</th>\n",
       "      <td>59400.0</td>\n",
       "      <td>179.909983</td>\n",
       "      <td>471.482176</td>\n",
       "      <td>0.00000</td>\n",
       "      <td>0.000000</td>\n",
       "      <td>25.000000</td>\n",
       "      <td>215.000000</td>\n",
       "      <td>3.050000e+04</td>\n",
       "    </tr>\n",
       "    <tr>\n",
       "      <th>construction_year</th>\n",
       "      <td>59400.0</td>\n",
       "      <td>1300.652475</td>\n",
       "      <td>951.620547</td>\n",
       "      <td>0.00000</td>\n",
       "      <td>0.000000</td>\n",
       "      <td>1986.000000</td>\n",
       "      <td>2004.000000</td>\n",
       "      <td>2.013000e+03</td>\n",
       "    </tr>\n",
       "  </tbody>\n",
       "</table>\n",
       "</div>"
      ],
      "text/plain": [
       "                     count          mean           std       min  \\\n",
       "id                 59400.0  37115.131768  21453.128371   0.00000   \n",
       "amount_tsh         59400.0    317.650385   2997.574558   0.00000   \n",
       "gps_height         59400.0    668.297239    693.116350 -90.00000   \n",
       "longitude          59400.0     34.077427      6.567432   0.00000   \n",
       "latitude           59400.0     -5.706033      2.946019 -11.64944   \n",
       "num_private        59400.0      0.474141     12.236230   0.00000   \n",
       "region_code        59400.0     15.297003     17.587406   1.00000   \n",
       "district_code      59400.0      5.629747      9.633649   0.00000   \n",
       "population         59400.0    179.909983    471.482176   0.00000   \n",
       "construction_year  59400.0   1300.652475    951.620547   0.00000   \n",
       "\n",
       "                            25%           50%           75%           max  \n",
       "id                 18519.750000  37061.500000  55656.500000  7.424700e+04  \n",
       "amount_tsh             0.000000      0.000000     20.000000  3.500000e+05  \n",
       "gps_height             0.000000    369.000000   1319.250000  2.770000e+03  \n",
       "longitude             33.090347     34.908743     37.178387  4.034519e+01  \n",
       "latitude              -8.540621     -5.021597     -3.326156 -2.000000e-08  \n",
       "num_private            0.000000      0.000000      0.000000  1.776000e+03  \n",
       "region_code            5.000000     12.000000     17.000000  9.900000e+01  \n",
       "district_code          2.000000      3.000000      5.000000  8.000000e+01  \n",
       "population             0.000000     25.000000    215.000000  3.050000e+04  \n",
       "construction_year      0.000000   1986.000000   2004.000000  2.013000e+03  "
      ]
     },
     "execution_count": 185,
     "metadata": {},
     "output_type": "execute_result"
    }
   ],
   "source": [
    "(X_Y_train[num_cols].describe().T)"
   ]
  },
  {
   "cell_type": "markdown",
   "id": "1db6a3a7-9791-41f0-883e-dd602449b3be",
   "metadata": {},
   "source": [
    "## Tratamiento de valores nulos para X_Y_train"
   ]
  },
  {
   "cell_type": "code",
   "execution_count": 186,
   "id": "91c2d653-b4ec-4c58-b623-fef0c8b859d4",
   "metadata": {},
   "outputs": [
    {
     "data": {
      "text/plain": [
       "id                           0\n",
       "amount_tsh                   0\n",
       "date_recorded                0\n",
       "funder                    3637\n",
       "gps_height                   0\n",
       "installer                 3655\n",
       "longitude                    0\n",
       "latitude                     0\n",
       "wpt_name                     2\n",
       "num_private                  0\n",
       "basin                        0\n",
       "subvillage                 371\n",
       "region                       0\n",
       "region_code                  0\n",
       "district_code                0\n",
       "lga                          0\n",
       "ward                         0\n",
       "population                   0\n",
       "public_meeting            3334\n",
       "recorded_by                  0\n",
       "scheme_management         3878\n",
       "scheme_name              28810\n",
       "permit                    3056\n",
       "construction_year            0\n",
       "extraction_type              0\n",
       "extraction_type_group        0\n",
       "extraction_type_class        0\n",
       "management                   0\n",
       "management_group             0\n",
       "payment                      0\n",
       "payment_type                 0\n",
       "water_quality                0\n",
       "quality_group                0\n",
       "quantity                     0\n",
       "quantity_group               0\n",
       "source                       0\n",
       "source_type                  0\n",
       "source_class                 0\n",
       "waterpoint_type              0\n",
       "waterpoint_type_group        0\n",
       "status_group                 0\n",
       "dtype: int64"
      ]
     },
     "execution_count": 186,
     "metadata": {},
     "output_type": "execute_result"
    }
   ],
   "source": [
    "# Mostramos los valores nulos de la tabla\n",
    "X_Y_train.isnull().sum()"
   ]
  },
  {
   "cell_type": "code",
   "execution_count": 187,
   "id": "e98ca947-e1c9-4b4a-bdf1-7dbb66c04b6f",
   "metadata": {},
   "outputs": [
    {
     "data": {
      "image/png": "[encoded data removed]",
      "text/plain": [
       "<Figure size 1500x1000 with 1 Axes>"
      ]
     },
     "metadata": {},
     "output_type": "display_data"
    }
   ],
   "source": [
    "# Identificamos los nulos visualmente\n",
    "plt.figure(figsize=(15, 10))\n",
    "sns.heatmap(X_Y_train.isnull(), cbar=False)\n",
    "plt.show()"
   ]
  },
  {
   "cell_type": "markdown",
   "id": "d6bebb40-899a-4f0e-a4d5-7a62090b064a",
   "metadata": {},
   "source": [
    "Parece que los nulos de funder e installer están relacionados entre sí (la mayoría de nulos de uno están presentes cuando hay nulos en el otro)"
   ]
  },
  {
   "cell_type": "code",
   "execution_count": 188,
   "id": "b4a04781-1dd1-4666-bc64-668110f852ee",
   "metadata": {},
   "outputs": [
    {
     "name": "stdout",
     "output_type": "stream",
     "text": [
      "Valores únicos en la columna 'public_meeting': 2\n",
      "Valores únicos en la columna 'permit': 2\n",
      "Valores únicos en la columna 'public_meeting': [True nan False]\n",
      "Valores únicos en la columna 'permit': [False True nan]\n"
     ]
    }
   ],
   "source": [
    "print(\"Valores únicos en la columna 'public_meeting':\", X_Y_train['public_meeting'].nunique())\n",
    "print(\"Valores únicos en la columna 'public_meeting':\", X_Y_train['public_meeting'].unique())\n",
    "print(\"Valores únicos en la columna 'permit':\", X_Y_train['permit'].nunique())\n",
    "print(\"Valores únicos en la columna 'permit':\", X_Y_train['permit'].unique())"
   ]
  },
  {
   "cell_type": "markdown",
   "id": "7e8b65a2-7f4f-4bfa-817b-34da8dbc25d9",
   "metadata": {},
   "source": [
    "Sabemos que los valores únicos de Public meeting y Permit son True, False o nan (en el caso de los nulos). Podemos tratarlos de la misma forma a la hora de imputar los nulos (en proporción a la cantidad de True y False que existen)"
   ]
  },
  {
   "cell_type": "code",
   "execution_count": 189,
   "id": "86eb54d3-9a0d-4f19-bd0a-24d8813a8732",
   "metadata": {},
   "outputs": [
    {
     "data": {
      "text/plain": [
       "permit\n",
       "True     0.68955\n",
       "False    0.31045\n",
       "Name: proportion, dtype: float64"
      ]
     },
     "execution_count": 189,
     "metadata": {},
     "output_type": "execute_result"
    }
   ],
   "source": [
    "# Calculamos el porcentaje de True y False para cada variable\n",
    "\n",
    "X_Y_train['permit'].value_counts(normalize=True)"
   ]
  },
  {
   "cell_type": "code",
   "execution_count": 190,
   "id": "e7e91a1a-e876-427d-8242-3183a288e6df",
   "metadata": {},
   "outputs": [],
   "source": [
    "# Imputamos permit en X_Y_train\n",
    "\n",
    "proporcion_true_permit = 0.68955\n",
    "nulos_permit_train = X_Y_train['permit'].isnull()\n",
    "n_nulos_permit_train = nulos_permit_train.sum()\n",
    "valores_aleatorios_permit_train = np.random.choice([True, False], size=n_nulos_permit_train, p=[proporcion_true_permit, 1 - proporcion_true_permit])\n",
    "X_Y_train.loc[nulos_permit_train, 'permit'] = valores_aleatorios_permit_train"
   ]
  },
  {
   "cell_type": "code",
   "execution_count": 191,
   "id": "fa8f9aca-82b0-496e-b43e-11469505a04e",
   "metadata": {},
   "outputs": [
    {
     "name": "stdout",
     "output_type": "stream",
     "text": [
      "Cantidad de nulos tras la imputación en X_Y_train: 0\n"
     ]
    }
   ],
   "source": [
    "# Verificar que ya no hay nulos\n",
    "\n",
    "print(\"Cantidad de nulos tras la imputación en X_Y_train:\", X_Y_train['permit'].isnull().sum())"
   ]
  },
  {
   "cell_type": "code",
   "execution_count": 192,
   "id": "f1b1a4c4-2987-42aa-946c-74996fd8b62c",
   "metadata": {},
   "outputs": [
    {
     "data": {
      "text/plain": [
       "permit\n",
       "True     0.689731\n",
       "False    0.310269\n",
       "Name: proportion, dtype: float64"
      ]
     },
     "execution_count": 192,
     "metadata": {},
     "output_type": "execute_result"
    }
   ],
   "source": [
    "# Podemos ver el porcentaje final de True y False tras la imputación (cambia de manera muy ligera)\n",
    "X_Y_train['permit'].value_counts(normalize=True)"
   ]
  },
  {
   "cell_type": "code",
   "execution_count": 193,
   "id": "fe146438-cf6e-41d5-ad90-8dc6d8160b67",
   "metadata": {},
   "outputs": [
    {
     "data": {
      "text/plain": [
       "public_meeting\n",
       "True     0.909838\n",
       "False    0.090162\n",
       "Name: proportion, dtype: float64"
      ]
     },
     "execution_count": 193,
     "metadata": {},
     "output_type": "execute_result"
    }
   ],
   "source": [
    "# Hacemos los mismo con public meeting\n",
    "\n",
    "X_Y_train['public_meeting'].value_counts(normalize=True)"
   ]
  },
  {
   "cell_type": "code",
   "execution_count": 194,
   "id": "791d4ac3-decf-4d64-865b-fc8dac3541b3",
   "metadata": {},
   "outputs": [],
   "source": [
    "# Imputamos public_meeting en X_Y_train\n",
    "proporcion_true_public_meeting = 0.909838\n",
    "nulos_public_meeting_train = X_Y_train['public_meeting'].isnull()\n",
    "n_nulos_public_meeting_train = nulos_public_meeting_train.sum()\n",
    "valores_aleatorios_public_meeting_train = np.random.choice([True, False], size=n_nulos_public_meeting_train, p=[proporcion_true_public_meeting, 1 - proporcion_true_public_meeting])\n",
    "X_Y_train.loc[nulos_public_meeting_train, 'public_meeting'] = valores_aleatorios_public_meeting_train"
   ]
  },
  {
   "cell_type": "code",
   "execution_count": 195,
   "id": "a58a43ea-3655-4b1a-84fc-b618e119a617",
   "metadata": {},
   "outputs": [
    {
     "name": "stdout",
     "output_type": "stream",
     "text": [
      "Cantidad de nulos tras la imputación en X_Y_train: 0\n"
     ]
    }
   ],
   "source": [
    "# Verificar que ya no hay nulos\n",
    "print(\"Cantidad de nulos tras la imputación en X_Y_train:\", X_Y_train['public_meeting'].isnull().sum())"
   ]
  },
  {
   "cell_type": "code",
   "execution_count": 196,
   "id": "e681e9e4-fc47-4742-8861-034f9a613d81",
   "metadata": {},
   "outputs": [
    {
     "data": {
      "text/plain": [
       "public_meeting\n",
       "True     0.909949\n",
       "False    0.090051\n",
       "Name: proportion, dtype: float64"
      ]
     },
     "execution_count": 196,
     "metadata": {},
     "output_type": "execute_result"
    }
   ],
   "source": [
    "# Podemos ver el porcentaje final de True y False tras la imputación (también cambia de manera muy ligera)\n",
    "X_Y_train['public_meeting'].value_counts(normalize=True)"
   ]
  },
  {
   "cell_type": "markdown",
   "id": "56a9bf5b-918c-40a9-acd9-d71482169c59",
   "metadata": {},
   "source": [
    "Una vez tenemos estas 2 variables sin nulos, nos fijamos en el resto."
   ]
  },
  {
   "cell_type": "code",
   "execution_count": 197,
   "id": "c32a8eb0-b481-4508-8b12-1798faf24963",
   "metadata": {},
   "outputs": [
    {
     "name": "stdout",
     "output_type": "stream",
     "text": [
      "Valores únicos en la columna 'funder': 1896\n",
      "Valores únicos en la columna 'installer': 2145\n",
      "Valores únicos en la columna 'wpt_name': 37399\n",
      "Valores únicos en la columna 'subvillage': 19287\n",
      "Valores únicos en la columna 'scheme_management': 11\n",
      "Valores únicos en la columna 'scheme_name': 2695\n"
     ]
    }
   ],
   "source": [
    "# Vemos cuáles son el número de valores únicos de cada variable con nulos\n",
    "\n",
    "print(\"Valores únicos en la columna 'funder':\", X_Y_train['funder'].nunique())\n",
    "print(\"Valores únicos en la columna 'installer':\", X_Y_train['installer'].nunique())\n",
    "print(\"Valores únicos en la columna 'wpt_name':\", X_Y_train['wpt_name'].nunique())\n",
    "print(\"Valores únicos en la columna 'subvillage':\", X_Y_train['subvillage'].nunique())\n",
    "print(\"Valores únicos en la columna 'scheme_management':\", X_Y_train['scheme_management'].nunique())\n",
    "print(\"Valores únicos en la columna 'scheme_name':\", X_Y_train['scheme_name'].nunique())"
   ]
  },
  {
   "cell_type": "code",
   "execution_count": 198,
   "id": "8c0f68f7-99fa-4fd9-ae77-ca1f557a3d69",
   "metadata": {},
   "outputs": [
    {
     "name": "stdout",
     "output_type": "stream",
     "text": [
      "scheme_management\n",
      "VWC                 36793\n",
      "WUG                  5206\n",
      "Water authority      3153\n",
      "WUA                  2883\n",
      "Water Board          2748\n",
      "Parastatal           1680\n",
      "Private operator     1063\n",
      "Company              1061\n",
      "Other                 766\n",
      "SWC                    97\n",
      "Trust                  72\n",
      "Name: count, dtype: int64\n"
     ]
    }
   ],
   "source": [
    "# Empezamos con scheme_management\n",
    "\n",
    "print(X_Y_train.scheme_management.value_counts())"
   ]
  },
  {
   "cell_type": "code",
   "execution_count": 199,
   "id": "75edb27b-fa18-4329-909b-84fc1efe8e73",
   "metadata": {},
   "outputs": [
    {
     "name": "stderr",
     "output_type": "stream",
     "text": [
      "C:\\Users\\estel\\AppData\\Local\\Temp\\ipykernel_20352\\264833305.py:3: FutureWarning: A value is trying to be set on a copy of a DataFrame or Series through chained assignment using an inplace method.\n",
      "The behavior will change in pandas 3.0. This inplace method will never work because the intermediate object on which we are setting values always behaves as a copy.\n",
      "\n",
      "For example, when doing 'df[col].method(value, inplace=True)', try using 'df.method({col: value}, inplace=True)' or df[col] = df[col].method(value) instead, to perform the operation inplace on the original object.\n",
      "\n",
      "\n",
      "  X_Y_train['scheme_management'].fillna('VWC',inplace=True)\n"
     ]
    }
   ],
   "source": [
    "# Vamos a imputar los valores nulos por la moda ya que hay gran diferencia de cantidad entre el primer rol (WHC) y el resto, siendo una manera sencilla\n",
    "# y rápida que evita sesgos.\n",
    "\n",
    "X_Y_train['scheme_management'].fillna('VWC',inplace=True)"
   ]
  },
  {
   "cell_type": "code",
   "execution_count": 200,
   "id": "4e2aa705-3b59-4e9e-ab3d-36091348e6f9",
   "metadata": {},
   "outputs": [
    {
     "name": "stdout",
     "output_type": "stream",
     "text": [
      "Cantidad de nulos tras la imputación en X_Y_train: 0\n"
     ]
    }
   ],
   "source": [
    "# Verificar que ya no hay nulos\n",
    "print(\"Cantidad de nulos tras la imputación en X_Y_train:\", X_Y_train['scheme_management'].isnull().sum())"
   ]
  },
  {
   "cell_type": "code",
   "execution_count": 201,
   "id": "3d96ffa8-5458-4827-9c8e-f5cea69d8015",
   "metadata": {},
   "outputs": [
    {
     "name": "stderr",
     "output_type": "stream",
     "text": [
      "C:\\Users\\estel\\AppData\\Local\\Temp\\ipykernel_20352\\2544809519.py:5: FutureWarning: A value is trying to be set on a copy of a DataFrame or Series through chained assignment using an inplace method.\n",
      "The behavior will change in pandas 3.0. This inplace method will never work because the intermediate object on which we are setting values always behaves as a copy.\n",
      "\n",
      "For example, when doing 'df[col].method(value, inplace=True)', try using 'df.method({col: value}, inplace=True)' or df[col] = df[col].method(value) instead, to perform the operation inplace on the original object.\n",
      "\n",
      "\n",
      "  X_Y_train['wpt_name'].fillna('No name', inplace=True)\n"
     ]
    }
   ],
   "source": [
    "# Para wtp_name el documento pdf indica que si existe un nombre este se verá reflejado en los datos. Por lo tanto, los nulos existentes son nulos porque \n",
    "# no hay un nombre y no porque no se sepa.\n",
    "\n",
    "# Sustituimos los 2 nulos por \"No name\"\n",
    "X_Y_train['wpt_name'].fillna('No name', inplace=True)"
   ]
  },
  {
   "cell_type": "code",
   "execution_count": 202,
   "id": "4339bfed-3696-477c-ab3c-e6618baee316",
   "metadata": {},
   "outputs": [
    {
     "name": "stdout",
     "output_type": "stream",
     "text": [
      "Cantidad de nulos tras la imputación en X_Y_train: 0\n"
     ]
    }
   ],
   "source": [
    "# Verificar que ya no hay nulos\n",
    "print(\"Cantidad de nulos tras la imputación en X_Y_train:\", X_Y_train['wpt_name'].isnull().sum())"
   ]
  },
  {
   "cell_type": "markdown",
   "id": "3761b1c5-b715-4324-a21c-ca974f747439",
   "metadata": {},
   "source": [
    "Para tratar las variables con gran cantidad de valores nulos y de valores únicos vamos a imputarlos como \"missing\""
   ]
  },
  {
   "cell_type": "code",
   "execution_count": 203,
   "id": "d754129a-6b70-45a5-9ebf-3a8836b79332",
   "metadata": {},
   "outputs": [
    {
     "name": "stdout",
     "output_type": "stream",
     "text": [
      "Cantidad de nulos tras la imputación en X_Y_train: 0\n",
      "Cantidad de nulos tras la imputación en X_Y_train: 0\n",
      "Cantidad de nulos tras la imputación en X_Y_train: 0\n",
      "Cantidad de nulos tras la imputación en X_Y_train: 0\n"
     ]
    },
    {
     "name": "stderr",
     "output_type": "stream",
     "text": [
      "C:\\Users\\estel\\AppData\\Local\\Temp\\ipykernel_20352\\370648676.py:2: FutureWarning: A value is trying to be set on a copy of a DataFrame or Series through chained assignment using an inplace method.\n",
      "The behavior will change in pandas 3.0. This inplace method will never work because the intermediate object on which we are setting values always behaves as a copy.\n",
      "\n",
      "For example, when doing 'df[col].method(value, inplace=True)', try using 'df.method({col: value}, inplace=True)' or df[col] = df[col].method(value) instead, to perform the operation inplace on the original object.\n",
      "\n",
      "\n",
      "  X_Y_train['funder'].fillna('missing', inplace=True)\n",
      "C:\\Users\\estel\\AppData\\Local\\Temp\\ipykernel_20352\\370648676.py:3: FutureWarning: A value is trying to be set on a copy of a DataFrame or Series through chained assignment using an inplace method.\n",
      "The behavior will change in pandas 3.0. This inplace method will never work because the intermediate object on which we are setting values always behaves as a copy.\n",
      "\n",
      "For example, when doing 'df[col].method(value, inplace=True)', try using 'df.method({col: value}, inplace=True)' or df[col] = df[col].method(value) instead, to perform the operation inplace on the original object.\n",
      "\n",
      "\n",
      "  X_Y_train['installer'].fillna('missing', inplace=True)\n",
      "C:\\Users\\estel\\AppData\\Local\\Temp\\ipykernel_20352\\370648676.py:4: FutureWarning: A value is trying to be set on a copy of a DataFrame or Series through chained assignment using an inplace method.\n",
      "The behavior will change in pandas 3.0. This inplace method will never work because the intermediate object on which we are setting values always behaves as a copy.\n",
      "\n",
      "For example, when doing 'df[col].method(value, inplace=True)', try using 'df.method({col: value}, inplace=True)' or df[col] = df[col].method(value) instead, to perform the operation inplace on the original object.\n",
      "\n",
      "\n",
      "  X_Y_train['subvillage'].fillna('missing', inplace=True)\n",
      "C:\\Users\\estel\\AppData\\Local\\Temp\\ipykernel_20352\\370648676.py:5: FutureWarning: A value is trying to be set on a copy of a DataFrame or Series through chained assignment using an inplace method.\n",
      "The behavior will change in pandas 3.0. This inplace method will never work because the intermediate object on which we are setting values always behaves as a copy.\n",
      "\n",
      "For example, when doing 'df[col].method(value, inplace=True)', try using 'df.method({col: value}, inplace=True)' or df[col] = df[col].method(value) instead, to perform the operation inplace on the original object.\n",
      "\n",
      "\n",
      "  X_Y_train['scheme_name'].fillna('missing', inplace=True)\n"
     ]
    }
   ],
   "source": [
    "# Las variables Funder, Installer, Subvillage y Scheme_name tienen muchos nulos y valores únicos, por lo que una manera sencilla de darles valor es \n",
    "# nombrar a esos nulos como una categoría a parte (missing).\n",
    "\n",
    "# Imputamos funder, installer, subvillage y scheme_name con 'missing', uno por uno para tener más control de lo que se hace\n",
    "X_Y_train['funder'].fillna('missing', inplace=True)\n",
    "X_Y_train['installer'].fillna('missing', inplace=True)\n",
    "X_Y_train['subvillage'].fillna('missing', inplace=True)\n",
    "X_Y_train['scheme_name'].fillna('missing', inplace=True)\n",
    "\n",
    "# Verificar que ya no hay nulos\n",
    "print(\"Cantidad de nulos tras la imputación en X_Y_train:\", X_Y_train['funder'].isnull().sum())\n",
    "print(\"Cantidad de nulos tras la imputación en X_Y_train:\", X_Y_train['installer'].isnull().sum())\n",
    "print(\"Cantidad de nulos tras la imputación en X_Y_train:\", X_Y_train['subvillage'].isnull().sum())\n",
    "print(\"Cantidad de nulos tras la imputación en X_Y_train:\", X_Y_train['scheme_name'].isnull().sum())"
   ]
  },
  {
   "cell_type": "code",
   "execution_count": 204,
   "id": "b489ca7a-d9b9-4f59-acad-d6631bd9bfb2",
   "metadata": {},
   "outputs": [
    {
     "data": {
      "text/plain": [
       "id                       0\n",
       "amount_tsh               0\n",
       "date_recorded            0\n",
       "funder                   0\n",
       "gps_height               0\n",
       "installer                0\n",
       "longitude                0\n",
       "latitude                 0\n",
       "wpt_name                 0\n",
       "num_private              0\n",
       "basin                    0\n",
       "subvillage               0\n",
       "region                   0\n",
       "region_code              0\n",
       "district_code            0\n",
       "lga                      0\n",
       "ward                     0\n",
       "population               0\n",
       "public_meeting           0\n",
       "recorded_by              0\n",
       "scheme_management        0\n",
       "scheme_name              0\n",
       "permit                   0\n",
       "construction_year        0\n",
       "extraction_type          0\n",
       "extraction_type_group    0\n",
       "extraction_type_class    0\n",
       "management               0\n",
       "management_group         0\n",
       "payment                  0\n",
       "payment_type             0\n",
       "water_quality            0\n",
       "quality_group            0\n",
       "quantity                 0\n",
       "quantity_group           0\n",
       "source                   0\n",
       "source_type              0\n",
       "source_class             0\n",
       "waterpoint_type          0\n",
       "waterpoint_type_group    0\n",
       "status_group             0\n",
       "dtype: int64"
      ]
     },
     "execution_count": 204,
     "metadata": {},
     "output_type": "execute_result"
    }
   ],
   "source": [
    "# Verificamos si ya no hay nulos en X_Y_train\n",
    "X_Y_train.isnull().sum()"
   ]
  },
  {
   "cell_type": "markdown",
   "id": "3cd93cbe-3ec9-4c9c-91c4-ed0bb70ce082",
   "metadata": {},
   "source": [
    "# Tratamiento de valores nulos para X_test\n",
    "Se van a seguir las mismas técnicas de imputación que en X_Y_train para evitar sesgos a la hora de modelar"
   ]
  },
  {
   "cell_type": "code",
   "execution_count": 205,
   "id": "dcb8aa9e-989d-42b6-94ab-69d8304ec219",
   "metadata": {},
   "outputs": [
    {
     "data": {
      "text/plain": [
       "id                          0\n",
       "amount_tsh                  0\n",
       "date_recorded               0\n",
       "funder                    870\n",
       "gps_height                  0\n",
       "installer                 877\n",
       "longitude                   0\n",
       "latitude                    0\n",
       "wpt_name                    0\n",
       "num_private                 0\n",
       "basin                       0\n",
       "subvillage                 99\n",
       "region                      0\n",
       "region_code                 0\n",
       "district_code               0\n",
       "lga                         0\n",
       "ward                        0\n",
       "population                  0\n",
       "public_meeting            821\n",
       "recorded_by                 0\n",
       "scheme_management         969\n",
       "scheme_name              7242\n",
       "permit                    737\n",
       "construction_year           0\n",
       "extraction_type             0\n",
       "extraction_type_group       0\n",
       "extraction_type_class       0\n",
       "management                  0\n",
       "management_group            0\n",
       "payment                     0\n",
       "payment_type                0\n",
       "water_quality               0\n",
       "quality_group               0\n",
       "quantity                    0\n",
       "quantity_group              0\n",
       "source                      0\n",
       "source_type                 0\n",
       "source_class                0\n",
       "waterpoint_type             0\n",
       "waterpoint_type_group       0\n",
       "dtype: int64"
      ]
     },
     "execution_count": 205,
     "metadata": {},
     "output_type": "execute_result"
    }
   ],
   "source": [
    "X_test.isnull().sum()"
   ]
  },
  {
   "cell_type": "code",
   "execution_count": 206,
   "id": "f3481294-1177-4dc3-b6e7-f96da49e454f",
   "metadata": {},
   "outputs": [
    {
     "data": {
      "image/png": "[encoded data removed]",
      "text/plain": [
       "<Figure size 1500x800 with 1 Axes>"
      ]
     },
     "metadata": {},
     "output_type": "display_data"
    }
   ],
   "source": [
    "# Identificamos los nulos visualmente\n",
    "plt.figure(figsize=(15, 8))\n",
    "sns.heatmap(X_test.isnull(), cbar=False)\n",
    "plt.show()"
   ]
  },
  {
   "cell_type": "markdown",
   "id": "816592e7-2f8f-4684-bdca-d173738bb464",
   "metadata": {},
   "source": [
    "Al igual que pasa con X_Y_train, los valores funder e installer parecen estar relacionados entre sí. El resto de valores parecen nulos de manera random."
   ]
  },
  {
   "cell_type": "code",
   "execution_count": 207,
   "id": "3536c9e1-b98d-4f93-83c4-3cd92a8590b9",
   "metadata": {},
   "outputs": [
    {
     "name": "stdout",
     "output_type": "stream",
     "text": [
      "Valores únicos en la columna 'public_meeting': 2\n",
      "Valores únicos en la columna 'permit': 2\n",
      "Valores únicos en la columna 'public_meeting': [True nan False]\n",
      "Valores únicos en la columna 'permit': [True nan False]\n"
     ]
    }
   ],
   "source": [
    "print(\"Valores únicos en la columna 'public_meeting':\", X_test['public_meeting'].nunique())\n",
    "print(\"Valores únicos en la columna 'public_meeting':\", X_test['public_meeting'].unique())\n",
    "print(\"Valores únicos en la columna 'permit':\", X_test['permit'].nunique())\n",
    "print(\"Valores únicos en la columna 'permit':\", X_test['permit'].unique())"
   ]
  },
  {
   "cell_type": "code",
   "execution_count": 208,
   "id": "19789639-b028-40f2-b528-2b1981986d16",
   "metadata": {},
   "outputs": [
    {
     "data": {
      "text/plain": [
       "permit\n",
       "True     0.691136\n",
       "False    0.308864\n",
       "Name: proportion, dtype: float64"
      ]
     },
     "execution_count": 208,
     "metadata": {},
     "output_type": "execute_result"
    }
   ],
   "source": [
    "X_test['permit'].value_counts(normalize=True)"
   ]
  },
  {
   "cell_type": "code",
   "execution_count": 209,
   "id": "fecfe350-61ba-47ce-ab45-ae4565200074",
   "metadata": {},
   "outputs": [],
   "source": [
    "# Imputamos permit en X_test\n",
    "proporcion_true_permit = 0.691136\n",
    "nulos_permit_test = X_test['permit'].isnull()\n",
    "n_nulos_permit_test = nulos_permit_test.sum()\n",
    "valores_aleatorios_permit_test = np.random.choice([True, False], size=n_nulos_permit_test, p=[proporcion_true_permit, 1 - proporcion_true_permit])\n",
    "X_test.loc[nulos_permit_test, 'permit'] = valores_aleatorios_permit_test"
   ]
  },
  {
   "cell_type": "code",
   "execution_count": 210,
   "id": "b1ff4077-b24b-44f5-a226-45e10b976e82",
   "metadata": {},
   "outputs": [
    {
     "name": "stdout",
     "output_type": "stream",
     "text": [
      "Cantidad de nulos tras la imputación en X_test 0\n"
     ]
    }
   ],
   "source": [
    "# Verificar que ya no hay nulos\n",
    "print(\"Cantidad de nulos tras la imputación en X_test\", X_test['permit'].isnull().sum())"
   ]
  },
  {
   "cell_type": "code",
   "execution_count": 211,
   "id": "70497255-72d2-43e4-8511-ae57ae453707",
   "metadata": {},
   "outputs": [
    {
     "data": {
      "text/plain": [
       "public_meeting\n",
       "True     0.907976\n",
       "False    0.092024\n",
       "Name: proportion, dtype: float64"
      ]
     },
     "execution_count": 211,
     "metadata": {},
     "output_type": "execute_result"
    }
   ],
   "source": [
    "X_test['public_meeting'].value_counts(normalize=True)"
   ]
  },
  {
   "cell_type": "code",
   "execution_count": 212,
   "id": "3b91352b-d893-40ce-8eb4-7fc902758eb6",
   "metadata": {},
   "outputs": [],
   "source": [
    "# Imputamos permit en X_test\n",
    "proporcion_true_public_meeting = 0.907976\n",
    "nulos_public_meeting_test = X_test['public_meeting'].isnull()\n",
    "n_nulos_public_meeting_test = nulos_public_meeting_test.sum()\n",
    "valores_aleatorios_public_meeting_test = np.random.choice([True, False], size=n_nulos_public_meeting_test, p=[proporcion_true_public_meeting, 1 - proporcion_true_public_meeting])\n",
    "X_test.loc[nulos_public_meeting_test, 'public_meeting'] = valores_aleatorios_public_meeting_test"
   ]
  },
  {
   "cell_type": "code",
   "execution_count": 213,
   "id": "65fb31e9-efbc-476f-800f-832fa81cd867",
   "metadata": {},
   "outputs": [
    {
     "name": "stdout",
     "output_type": "stream",
     "text": [
      "Cantidad de nulos tras la imputación en X_test 0\n"
     ]
    }
   ],
   "source": [
    "# Verificar que ya no hay nulos\n",
    "print(\"Cantidad de nulos tras la imputación en X_test\", X_test['public_meeting'].isnull().sum())"
   ]
  },
  {
   "cell_type": "code",
   "execution_count": 214,
   "id": "a34b083d-c36b-493b-9bab-94ced95be25d",
   "metadata": {},
   "outputs": [
    {
     "name": "stdout",
     "output_type": "stream",
     "text": [
      "scheme_management\n",
      "VWC                 9124\n",
      "WUG                 1290\n",
      "Water authority      822\n",
      "Water Board          714\n",
      "WUA                  668\n",
      "Parastatal           444\n",
      "Company              280\n",
      "Private operator     263\n",
      "Other                230\n",
      "SWC                   26\n",
      "Trust                 20\n",
      "Name: count, dtype: int64\n"
     ]
    }
   ],
   "source": [
    "# Vamos con scheme_management\n",
    "\n",
    "print(X_test.scheme_management.value_counts())"
   ]
  },
  {
   "cell_type": "code",
   "execution_count": 215,
   "id": "5c3648e8-7d5b-4ed0-a21e-8655faa97a2e",
   "metadata": {},
   "outputs": [
    {
     "name": "stdout",
     "output_type": "stream",
     "text": [
      "Cantidad de nulos tras la imputación en X_test: 0\n"
     ]
    },
    {
     "name": "stderr",
     "output_type": "stream",
     "text": [
      "C:\\Users\\estel\\AppData\\Local\\Temp\\ipykernel_20352\\2422562472.py:2: FutureWarning: A value is trying to be set on a copy of a DataFrame or Series through chained assignment using an inplace method.\n",
      "The behavior will change in pandas 3.0. This inplace method will never work because the intermediate object on which we are setting values always behaves as a copy.\n",
      "\n",
      "For example, when doing 'df[col].method(value, inplace=True)', try using 'df.method({col: value}, inplace=True)' or df[col] = df[col].method(value) instead, to perform the operation inplace on the original object.\n",
      "\n",
      "\n",
      "  X_test['scheme_management'].fillna('VWC',inplace=True)\n"
     ]
    }
   ],
   "source": [
    "# Imputamos los valores nulos por la moda, como con X_Y_train.\n",
    "X_test['scheme_management'].fillna('VWC',inplace=True)\n",
    "\n",
    "# Verificar que ya no hay nulos\n",
    "print(\"Cantidad de nulos tras la imputación en X_test:\", X_test['scheme_management'].isnull().sum())"
   ]
  },
  {
   "cell_type": "code",
   "execution_count": 216,
   "id": "719b8890-92fa-4756-b84e-7e37fd73fd17",
   "metadata": {},
   "outputs": [
    {
     "name": "stdout",
     "output_type": "stream",
     "text": [
      "Cantidad de nulos tras la imputación en X_test: 0\n",
      "Cantidad de nulos tras la imputación en X_test: 0\n",
      "Cantidad de nulos tras la imputación en X_test: 0\n",
      "Cantidad de nulos tras la imputación en X_test: 0\n"
     ]
    },
    {
     "name": "stderr",
     "output_type": "stream",
     "text": [
      "C:\\Users\\estel\\AppData\\Local\\Temp\\ipykernel_20352\\4206075441.py:2: FutureWarning: A value is trying to be set on a copy of a DataFrame or Series through chained assignment using an inplace method.\n",
      "The behavior will change in pandas 3.0. This inplace method will never work because the intermediate object on which we are setting values always behaves as a copy.\n",
      "\n",
      "For example, when doing 'df[col].method(value, inplace=True)', try using 'df.method({col: value}, inplace=True)' or df[col] = df[col].method(value) instead, to perform the operation inplace on the original object.\n",
      "\n",
      "\n",
      "  X_test['funder'].fillna('missing', inplace=True)\n",
      "C:\\Users\\estel\\AppData\\Local\\Temp\\ipykernel_20352\\4206075441.py:3: FutureWarning: A value is trying to be set on a copy of a DataFrame or Series through chained assignment using an inplace method.\n",
      "The behavior will change in pandas 3.0. This inplace method will never work because the intermediate object on which we are setting values always behaves as a copy.\n",
      "\n",
      "For example, when doing 'df[col].method(value, inplace=True)', try using 'df.method({col: value}, inplace=True)' or df[col] = df[col].method(value) instead, to perform the operation inplace on the original object.\n",
      "\n",
      "\n",
      "  X_test['installer'].fillna('missing', inplace=True)\n",
      "C:\\Users\\estel\\AppData\\Local\\Temp\\ipykernel_20352\\4206075441.py:4: FutureWarning: A value is trying to be set on a copy of a DataFrame or Series through chained assignment using an inplace method.\n",
      "The behavior will change in pandas 3.0. This inplace method will never work because the intermediate object on which we are setting values always behaves as a copy.\n",
      "\n",
      "For example, when doing 'df[col].method(value, inplace=True)', try using 'df.method({col: value}, inplace=True)' or df[col] = df[col].method(value) instead, to perform the operation inplace on the original object.\n",
      "\n",
      "\n",
      "  X_test['subvillage'].fillna('missing', inplace=True)\n",
      "C:\\Users\\estel\\AppData\\Local\\Temp\\ipykernel_20352\\4206075441.py:5: FutureWarning: A value is trying to be set on a copy of a DataFrame or Series through chained assignment using an inplace method.\n",
      "The behavior will change in pandas 3.0. This inplace method will never work because the intermediate object on which we are setting values always behaves as a copy.\n",
      "\n",
      "For example, when doing 'df[col].method(value, inplace=True)', try using 'df.method({col: value}, inplace=True)' or df[col] = df[col].method(value) instead, to perform the operation inplace on the original object.\n",
      "\n",
      "\n",
      "  X_test['scheme_name'].fillna('missing', inplace=True)\n"
     ]
    }
   ],
   "source": [
    "# Imputamos funder, installer, subvillage y scheme_name con 'missing'\n",
    "X_test['funder'].fillna('missing', inplace=True)\n",
    "X_test['installer'].fillna('missing', inplace=True)\n",
    "X_test['subvillage'].fillna('missing', inplace=True)\n",
    "X_test['scheme_name'].fillna('missing', inplace=True)\n",
    "\n",
    "# Verificar que ya no hay nulos\n",
    "print(\"Cantidad de nulos tras la imputación en X_test:\", X_test['funder'].isnull().sum())\n",
    "print(\"Cantidad de nulos tras la imputación en X_test:\", X_test['installer'].isnull().sum())\n",
    "print(\"Cantidad de nulos tras la imputación en X_test:\", X_test['subvillage'].isnull().sum())\n",
    "print(\"Cantidad de nulos tras la imputación en X_test:\", X_test['scheme_name'].isnull().sum())"
   ]
  },
  {
   "cell_type": "code",
   "execution_count": 217,
   "id": "b267274a-f348-4c88-85f3-2dfddd961862",
   "metadata": {},
   "outputs": [
    {
     "data": {
      "text/plain": [
       "id                       0\n",
       "amount_tsh               0\n",
       "date_recorded            0\n",
       "funder                   0\n",
       "gps_height               0\n",
       "installer                0\n",
       "longitude                0\n",
       "latitude                 0\n",
       "wpt_name                 0\n",
       "num_private              0\n",
       "basin                    0\n",
       "subvillage               0\n",
       "region                   0\n",
       "region_code              0\n",
       "district_code            0\n",
       "lga                      0\n",
       "ward                     0\n",
       "population               0\n",
       "public_meeting           0\n",
       "recorded_by              0\n",
       "scheme_management        0\n",
       "scheme_name              0\n",
       "permit                   0\n",
       "construction_year        0\n",
       "extraction_type          0\n",
       "extraction_type_group    0\n",
       "extraction_type_class    0\n",
       "management               0\n",
       "management_group         0\n",
       "payment                  0\n",
       "payment_type             0\n",
       "water_quality            0\n",
       "quality_group            0\n",
       "quantity                 0\n",
       "quantity_group           0\n",
       "source                   0\n",
       "source_type              0\n",
       "source_class             0\n",
       "waterpoint_type          0\n",
       "waterpoint_type_group    0\n",
       "dtype: int64"
      ]
     },
     "execution_count": 217,
     "metadata": {},
     "output_type": "execute_result"
    }
   ],
   "source": [
    "# Verificamos si ya no hay nulos en X_test\n",
    "X_test.isnull().sum()"
   ]
  },
  {
   "cell_type": "markdown",
   "id": "c0dc306e-403c-4461-afac-a849bd369e97",
   "metadata": {},
   "source": [
    "# Transformación de variables categóricas a variables numéricas"
   ]
  },
  {
   "cell_type": "markdown",
   "id": "f7309068-4aa8-40a7-8a08-10df6bef567a",
   "metadata": {},
   "source": [
    "Para poder modelar necesitamos que todas las variables sean de un mismo tipo."
   ]
  },
  {
   "cell_type": "code",
   "execution_count": null,
   "id": "d26039dd-91f7-4799-9738-c1bc8a1153db",
   "metadata": {},
   "outputs": [],
   "source": [
    "# Primero transformamos la variable date_recorded a formato datetime en X_Y_train\n",
    "\n",
    "X_Y_train['date_recorded'] = pd.to_datetime(X_Y_train['date_recorded'])\n",
    "\n",
    "# Extraer el año\n",
    "X_Y_train['recorded_year'] = X_Y_train['date_recorded'].dt.year\n",
    "\n",
    "# Extraer el mes\n",
    "X_Y_train['recorded_month'] = X_Y_train['date_recorded'].dt.month\n",
    "\n",
    "# Extraer el día\n",
    "X_Y_train['recorded_day'] = X_Y_train['date_recorded'].dt.day\n",
    "\n",
    "# Eliminamos la columna original 'date_recorded' \n",
    "X_Y_train.drop('date_recorded', axis=1, inplace=True)"
   ]
  },
  {
   "cell_type": "code",
   "execution_count": 234,
   "id": "3c470207-8c31-457c-b875-fa486b400cb1",
   "metadata": {},
   "outputs": [],
   "source": [
    "# Hacemos los mismo para X_test\n",
    "\n",
    "X_test['date_recorded'] = pd.to_datetime(X_test['date_recorded'])\n",
    "\n",
    "# Extraer el año\n",
    "X_test['recorded_year'] = X_test['date_recorded'].dt.year\n",
    "\n",
    "# Extraer el mes\n",
    "X_test['recorded_month'] = X_test['date_recorded'].dt.month\n",
    "\n",
    "# Extraer el día\n",
    "X_test['recorded_day'] = X_test['date_recorded'].dt.day\n",
    "\n",
    "# Eliminamos la columna original 'date_recorded' \n",
    "X_test.drop('date_recorded', axis=1, inplace=True)"
   ]
  },
  {
   "cell_type": "code",
   "execution_count": 219,
   "id": "0c76c8b7-24d9-467d-9b0f-bf5c3f94b1ca",
   "metadata": {},
   "outputs": [
    {
     "data": {
      "text/plain": [
       "id                         int64\n",
       "amount_tsh               float64\n",
       "funder                    object\n",
       "gps_height                 int64\n",
       "installer                 object\n",
       "longitude                float64\n",
       "latitude                 float64\n",
       "wpt_name                  object\n",
       "num_private                int64\n",
       "basin                     object\n",
       "subvillage                object\n",
       "region                    object\n",
       "region_code                int64\n",
       "district_code              int64\n",
       "lga                       object\n",
       "ward                      object\n",
       "population                 int64\n",
       "public_meeting            object\n",
       "recorded_by               object\n",
       "scheme_management         object\n",
       "scheme_name               object\n",
       "permit                    object\n",
       "construction_year          int64\n",
       "extraction_type           object\n",
       "extraction_type_group     object\n",
       "extraction_type_class     object\n",
       "management                object\n",
       "management_group          object\n",
       "payment                   object\n",
       "payment_type              object\n",
       "water_quality             object\n",
       "quality_group             object\n",
       "quantity                  object\n",
       "quantity_group            object\n",
       "source                    object\n",
       "source_type               object\n",
       "source_class              object\n",
       "waterpoint_type           object\n",
       "waterpoint_type_group     object\n",
       "status_group              object\n",
       "recorded_year              int32\n",
       "recorded_month             int32\n",
       "recorded_day               int32\n",
       "dtype: object"
      ]
     },
     "execution_count": 219,
     "metadata": {},
     "output_type": "execute_result"
    }
   ],
   "source": [
    "X_Y_train.dtypes"
   ]
  },
  {
   "cell_type": "code",
   "execution_count": 221,
   "id": "85ea8544-c3c8-413b-8e15-58864bf96d57",
   "metadata": {},
   "outputs": [],
   "source": [
    "# Extraemos las variables dummies de aquellas que tengan pocos valores únicos (ya que se formará una variable más por variable dummie que creemos) \n",
    "# y las variables biniarias de aquellas que solo tengan 2 valores únicos\n",
    "\n",
    "variables_dummies = [\n",
    "    'basin',\n",
    "    'scheme_management',\n",
    "    'extraction_type_class',\n",
    "    'management_group',\n",
    "    'payment',\n",
    "    'payment_type',\n",
    "    'water_quality', \n",
    "    'quality_group',\n",
    "    'quantity',\n",
    "    'quantity_group',\n",
    "    'source_type',\n",
    "    'source_class',\n",
    "    'waterpoint_type',\n",
    "    'waterpoint_type_group'\n",
    "]  \n",
    "variables_binarias = ['public_meeting','permit']"
   ]
  },
  {
   "cell_type": "code",
   "execution_count": 222,
   "id": "954414fc-6418-4ad3-ab78-5a79001a44a6",
   "metadata": {},
   "outputs": [],
   "source": [
    "# Obtenemos las variables dummies de X_Y_train\n",
    "\n",
    "for k in variables_dummies:\n",
    "    dummies = pd.get_dummies(X_Y_train[k],prefix=k)\n",
    "    X_Y_train = pd.concat([X_Y_train, dummies], axis=1)\n",
    "    X_Y_train.drop(k, axis=1, inplace=True)"
   ]
  },
  {
   "cell_type": "code",
   "execution_count": 230,
   "id": "ebeef795-f685-4f55-b41a-b1e7badb3904",
   "metadata": {},
   "outputs": [],
   "source": [
    "# Lo mismo pero con X_test\n",
    "for k in variables_dummies:\n",
    "    dummies = pd.get_dummies(X_test[k], prefix=k, drop_first=True)\n",
    "    X_test = pd.concat([X_test, dummies], axis=1)\n",
    "    X_test.drop(k, axis=1, inplace=True)"
   ]
  },
  {
   "cell_type": "code",
   "execution_count": 223,
   "id": "1e9b8a8d-8c8c-4bc0-9431-226d47709bae",
   "metadata": {},
   "outputs": [],
   "source": [
    "# Obtenemos las variables binarias del conjunto de X_Y_train\n",
    "\n",
    "for i in variables_binarias:\n",
    "    X_Y_train[i] = [1 if x == 'True' else 0 for x in X_Y_train[i]]"
   ]
  },
  {
   "cell_type": "code",
   "execution_count": 231,
   "id": "b1393340-a949-4c51-aff5-09594a234ef7",
   "metadata": {},
   "outputs": [],
   "source": [
    "# Lo mismo para X_test\n",
    "\n",
    "for i in variables_binarias:\n",
    "    X_test[i] = [1 if x == 'True' else 0 for x in X_test[i]]"
   ]
  },
  {
   "cell_type": "code",
   "execution_count": 227,
   "id": "d862d3e2-47e5-4534-8430-7a91e2771b80",
   "metadata": {},
   "outputs": [
    {
     "data": {
      "text/plain": [
       "id                                            int64\n",
       "amount_tsh                                  float64\n",
       "funder                                       object\n",
       "gps_height                                    int64\n",
       "installer                                    object\n",
       "                                             ...   \n",
       "waterpoint_type_group_communal standpipe       bool\n",
       "waterpoint_type_group_dam                      bool\n",
       "waterpoint_type_group_hand pump                bool\n",
       "waterpoint_type_group_improved spring          bool\n",
       "waterpoint_type_group_other                    bool\n",
       "Length: 122, dtype: object"
      ]
     },
     "execution_count": 227,
     "metadata": {},
     "output_type": "execute_result"
    }
   ],
   "source": [
    "X_Y_train.dtypes"
   ]
  },
  {
   "cell_type": "code",
   "execution_count": 235,
   "id": "a745874f-8c77-4a08-876f-fa6f3be3d47b",
   "metadata": {},
   "outputs": [
    {
     "data": {
      "text/plain": [
       "id                                         int64\n",
       "amount_tsh                               float64\n",
       "funder                                    object\n",
       "gps_height                                 int64\n",
       "installer                                 object\n",
       "                                          ...   \n",
       "waterpoint_type_group_improved spring       bool\n",
       "waterpoint_type_group_other                 bool\n",
       "recorded_year                              int32\n",
       "recorded_month                             int32\n",
       "recorded_day                               int32\n",
       "Length: 107, dtype: object"
      ]
     },
     "execution_count": 235,
     "metadata": {},
     "output_type": "execute_result"
    }
   ],
   "source": [
    "X_test.dtypes"
   ]
  },
  {
   "cell_type": "code",
   "execution_count": 236,
   "id": "7f385f80-f3ac-4f49-8880-230ba511facc",
   "metadata": {},
   "outputs": [
    {
     "name": "stdout",
     "output_type": "stream",
     "text": [
      "\n",
      "--- Variables que aún son de tipo 'object' ---\n",
      "- funder: object\n",
      "- installer: object\n",
      "- wpt_name: object\n",
      "- subvillage: object\n",
      "- region: object\n",
      "- lga: object\n",
      "- ward: object\n",
      "- recorded_by: object\n",
      "- scheme_name: object\n",
      "- extraction_type: object\n",
      "- extraction_type_group: object\n",
      "- management: object\n",
      "- source: object\n",
      "- status_group: object\n",
      "\n",
      "--- Variables que aún son de tipo 'object' ---\n",
      "- funder: object\n",
      "- installer: object\n",
      "- wpt_name: object\n",
      "- subvillage: object\n",
      "- region: object\n",
      "- lga: object\n",
      "- ward: object\n",
      "- recorded_by: object\n",
      "- scheme_name: object\n",
      "- extraction_type: object\n",
      "- extraction_type_group: object\n",
      "- management: object\n",
      "- source: object\n"
     ]
    }
   ],
   "source": [
    "# Identificamos qué variables siguen siendo de tipo objeto\n",
    "\n",
    "print(\"\\n--- Variables que aún son de tipo 'object' ---\")\n",
    "# Iterar sobre las columnas y mostrar solo las que son de tipo 'object'\n",
    "for col, dtype in X_Y_train.dtypes.items():\n",
    "    if dtype == 'object':\n",
    "        print(f\"- {col}: {dtype}\")\n",
    "\n",
    "print(\"\\n--- Variables que aún son de tipo 'object' ---\")\n",
    "# Iterar sobre las columnas y mostrar solo las que son de tipo 'object'\n",
    "for col, dtype in X_test.dtypes.items():\n",
    "    if dtype == 'object':\n",
    "        print(f\"- {col}: {dtype}\")"
   ]
  },
  {
   "cell_type": "code",
   "execution_count": 237,
   "id": "227f13b1-de3d-470e-9aee-b883d6af9509",
   "metadata": {},
   "outputs": [
    {
     "name": "stdout",
     "output_type": "stream",
     "text": [
      "Número de valores únicos por variable objeto en X_Y_train:\n",
      "- funder: 1897\n",
      "- installer: 2146\n",
      "- wpt_name: 37400\n",
      "- subvillage: 19288\n",
      "- region: 21\n",
      "- lga: 125\n",
      "- ward: 2092\n",
      "- recorded_by: 1\n",
      "- scheme_name: 2696\n",
      "- extraction_type: 18\n",
      "- extraction_type_group: 13\n",
      "- management: 12\n",
      "- source: 10\n"
     ]
    }
   ],
   "source": [
    "variables_a_analizar = [\n",
    "    'funder',\n",
    "    'installer',\n",
    "    'wpt_name',\n",
    "    'subvillage',\n",
    "    'region',\n",
    "    'lga',\n",
    "    'ward',\n",
    "    'recorded_by',\n",
    "    'scheme_name',\n",
    "    'extraction_type',\n",
    "    'extraction_type_group',\n",
    "    'management',\n",
    "    'source'\n",
    "]\n",
    "\n",
    "print(\"Número de valores únicos por variable objeto en X_Y_train:\")\n",
    "for variable in variables_a_analizar:\n",
    "    unique_count = X_Y_train[variable].nunique()\n",
    "    print(f\"- {variable}: {unique_count}\")"
   ]
  },
  {
   "cell_type": "code",
   "execution_count": 238,
   "id": "8c44dbfc-4b4e-497e-b673-549526e7bf9f",
   "metadata": {},
   "outputs": [],
   "source": [
    "# Eliminamos recorded_by ya que no aporta información (solo tiene un tipo de dato que es el mismo para X_Y_train e X_test)\n",
    "\n",
    "X_Y_train.drop('recorded_by', axis=1, inplace=True)\n",
    "X_test.drop('recorded_by', axis=1, inplace=True)"
   ]
  },
  {
   "cell_type": "code",
   "execution_count": 240,
   "id": "dc8f7401-cca4-45d7-bebd-dbc2bc6c2e77",
   "metadata": {},
   "outputs": [
    {
     "name": "stdout",
     "output_type": "stream",
     "text": [
      "Valores únicos en 'funder_grouped' (X_Y_train): 11\n",
      "Valores únicos en 'funder_grouped' (X_test): 11\n"
     ]
    }
   ],
   "source": [
    "# Probamos con agrupar los valores de funder en los 10 valores únicos más frecuentes para X_Y_train y X_test\n",
    "\n",
    "top_n_funder = X_Y_train['funder'].value_counts().nlargest(10).index\n",
    "\n",
    "# Agrupar en 'Other' los valores no encontrados en los 10 más frecuentes\n",
    "X_Y_train['funder_grouped'] = X_Y_train['funder'].where(X_Y_train['funder'].isin(top_n_funder), 'Other')\n",
    "\n",
    "# Agrupar en 'Other' los valores no encontrados en los 10 más frecuentes (prueba)\n",
    "X_test['funder_grouped'] = X_test['funder'].where(X_test['funder'].isin(top_n_funder), 'Other')\n",
    "\n",
    "# Mostrar los valores únicos de la nueva columna agrupada\n",
    "print(\"Valores únicos en 'funder_grouped' (X_Y_train):\", X_Y_train['funder_grouped'].nunique())\n",
    "print(\"Valores únicos en 'funder_grouped' (X_test):\", X_test['funder_grouped'].nunique())"
   ]
  },
  {
   "cell_type": "code",
   "execution_count": 241,
   "id": "11a8433f-d7a1-403a-a5a7-9b23c02351a3",
   "metadata": {},
   "outputs": [],
   "source": [
    "# Eliminamos las columnas originales (hemos creado columnas nuevas con los valores agrupados)\n",
    "X_Y_train.drop('funder', axis=1, inplace=True)\n",
    "X_test.drop('funder', axis=1, inplace=True)"
   ]
  },
  {
   "cell_type": "code",
   "execution_count": 242,
   "id": "d5f4852a-8543-46ad-99ee-68610d123935",
   "metadata": {},
   "outputs": [],
   "source": [
    "# Aplicamos el mismo procedimiento para el resto de variables objeto que nos quedan, agrupándolas por diferentes tamaños\n",
    "top_n = {\n",
    "    'installer': 20,\n",
    "    'wpt_name': 100,\n",
    "    'subvillage': 100,\n",
    "    'region': 15,\n",
    "    'lga': 50,\n",
    "    'ward': 100,\n",
    "    'scheme_name': 20,\n",
    "    'extraction_type': 10,  \n",
    "    'extraction_type_group': 10,  \n",
    "    'management': 10,  \n",
    "    'source': 10  \n",
    "}\n",
    "\n",
    "variables_a_agrupar = [\n",
    "    'installer',\n",
    "    'wpt_name',\n",
    "    'subvillage',\n",
    "    'region',\n",
    "    'lga',\n",
    "    'ward',\n",
    "    'scheme_name',\n",
    "    'extraction_type',\n",
    "    'extraction_type_group',\n",
    "    'management',\n",
    "    'source'\n",
    "]\n",
    "\n",
    "for variable in variables_a_agrupar:\n",
    "    N = top_n.get(variable)\n",
    "    if N is not None:\n",
    "        top_n_variable = X_Y_train[variable].value_counts().nlargest(N).index\n",
    "        X_Y_train[f'{variable}_grouped'] = X_Y_train[variable].where(X_Y_train[variable].isin(top_n_variable), 'Other')\n",
    "        X_test[f'{variable}_grouped'] = X_test[variable].where(X_test[variable].isin(top_n_variable), 'Other')\n",
    "    else:\n",
    "        print(f\"Advertencia: No se encontró valor de N para la variable '{variable}'.\")\n",
    "\n",
    "# Eliminamos las columnas originales\n",
    "\n",
    "for variable in variables_a_agrupar:\n",
    "     if variable in X_Y_train.columns:\n",
    "         X_Y_train.drop(variable, axis=1, inplace=True)\n",
    "     if variable in X_test.columns:\n",
    "         X_test.drop(variable, axis=1, inplace=True)"
   ]
  },
  {
   "cell_type": "code",
   "execution_count": 243,
   "id": "2c330040-47a0-4508-a3aa-1b013be8f72a",
   "metadata": {},
   "outputs": [
    {
     "name": "stdout",
     "output_type": "stream",
     "text": [
      "\n",
      "--- Variables que aún son de tipo 'object' ---\n",
      "- status_group: object\n",
      "- funder_grouped: object\n",
      "- installer_grouped: object\n",
      "- wpt_name_grouped: object\n",
      "- subvillage_grouped: object\n",
      "- region_grouped: object\n",
      "- lga_grouped: object\n",
      "- ward_grouped: object\n",
      "- scheme_name_grouped: object\n",
      "- extraction_type_grouped: object\n",
      "- extraction_type_group_grouped: object\n",
      "- management_grouped: object\n",
      "- source_grouped: object\n",
      "\n",
      "--- Variables que aún son de tipo 'object' ---\n",
      "- funder_grouped: object\n",
      "- installer_grouped: object\n",
      "- wpt_name_grouped: object\n",
      "- subvillage_grouped: object\n",
      "- region_grouped: object\n",
      "- lga_grouped: object\n",
      "- ward_grouped: object\n",
      "- scheme_name_grouped: object\n",
      "- extraction_type_grouped: object\n",
      "- extraction_type_group_grouped: object\n",
      "- management_grouped: object\n",
      "- source_grouped: object\n"
     ]
    }
   ],
   "source": [
    "# Volvemos a visualizar las variables tipo object que tenemos tras las agrupaciones\n",
    "\n",
    "print(\"\\n--- Variables que aún son de tipo 'object' ---\")\n",
    "# Iterar sobre las columnas y mostrar solo las que son de tipo 'object'\n",
    "for col, dtype in X_Y_train.dtypes.items():\n",
    "    if dtype == 'object':\n",
    "        print(f\"- {col}: {dtype}\")\n",
    "\n",
    "print(\"\\n--- Variables que aún son de tipo 'object' ---\")\n",
    "# Iterar sobre las columnas y mostrar solo las que son de tipo 'object'\n",
    "for col, dtype in X_test.dtypes.items():\n",
    "    if dtype == 'object':\n",
    "        print(f\"- {col}: {dtype}\")"
   ]
  },
  {
   "cell_type": "code",
   "execution_count": 244,
   "id": "2e627deb-6288-48e3-abd5-a796b384c96f",
   "metadata": {},
   "outputs": [
    {
     "name": "stdout",
     "output_type": "stream",
     "text": [
      "Valores únicos en la columna 'funder_grouped': 11\n",
      "Valores únicos en la columna 'installer_grouped': 21\n",
      "Valores únicos en la columna 'wpt_name_grouped': 101\n",
      "Valores únicos en la columna 'subvillage_grouped': 101\n",
      "Valores únicos en la columna 'region_grouped': 16\n",
      "Valores únicos en la columna 'lga_grouped': 51\n",
      "Valores únicos en la columna 'ward_grouped': 101\n",
      "Valores únicos en la columna 'scheme_name_grouped': 21\n",
      "Valores únicos en la columna 'extraction_type_grouped': 11\n",
      "Valores únicos en la columna 'extraction_type_group_grouped': 11\n",
      "Valores únicos en la columna 'management_grouped': 11\n",
      "Valores únicos en la columna 'source_grouped': 10\n",
      "\n",
      "Número de valores únicos en las columnas agrupadas de X_test:\n",
      "Valores únicos en la columna 'funder_grouped': 11\n",
      "Valores únicos en la columna 'installer_grouped': 21\n",
      "Valores únicos en la columna 'wpt_name_grouped': 101\n",
      "Valores únicos en la columna 'subvillage_grouped': 101\n",
      "Valores únicos en la columna 'region_grouped': 16\n",
      "Valores únicos en la columna 'lga_grouped': 51\n",
      "Valores únicos en la columna 'ward_grouped': 101\n",
      "Valores únicos en la columna 'scheme_name_grouped': 21\n",
      "Valores únicos en la columna 'extraction_type_grouped': 11\n",
      "Valores únicos en la columna 'extraction_type_group_grouped': 11\n",
      "Valores únicos en la columna 'management_grouped': 11\n",
      "Valores únicos en la columna 'source_grouped': 10\n"
     ]
    }
   ],
   "source": [
    "# Imprimir el número de valores únicos para las columnas agrupadas en X_Y_train\n",
    "\n",
    "print(\"Valores únicos en la columna 'funder_grouped':\", X_Y_train['funder_grouped'].nunique())\n",
    "print(\"Valores únicos en la columna 'installer_grouped':\", X_Y_train['installer_grouped'].nunique())\n",
    "print(\"Valores únicos en la columna 'wpt_name_grouped':\", X_Y_train['wpt_name_grouped'].nunique())\n",
    "print(\"Valores únicos en la columna 'subvillage_grouped':\", X_Y_train['subvillage_grouped'].nunique())\n",
    "print(\"Valores únicos en la columna 'region_grouped':\", X_Y_train['region_grouped'].nunique())\n",
    "print(\"Valores únicos en la columna 'lga_grouped':\", X_Y_train['lga_grouped'].nunique())\n",
    "print(\"Valores únicos en la columna 'ward_grouped':\", X_Y_train['ward_grouped'].nunique())\n",
    "print(\"Valores únicos en la columna 'scheme_name_grouped':\", X_Y_train['scheme_name_grouped'].nunique())\n",
    "print(\"Valores únicos en la columna 'extraction_type_grouped':\", X_Y_train['extraction_type_grouped'].nunique())\n",
    "print(\"Valores únicos en la columna 'extraction_type_group_grouped':\", X_Y_train['extraction_type_group_grouped'].nunique())\n",
    "print(\"Valores únicos en la columna 'management_grouped':\", X_Y_train['management_grouped'].nunique())\n",
    "print(\"Valores únicos en la columna 'source_grouped':\", X_Y_train['source_grouped'].nunique())\n",
    "\n",
    "print(\"\\nNúmero de valores únicos en las columnas agrupadas de X_test:\")\n",
    "\n",
    "print(\"Valores únicos en la columna 'funder_grouped':\", X_test['funder_grouped'].nunique())\n",
    "print(\"Valores únicos en la columna 'installer_grouped':\", X_test['installer_grouped'].nunique())\n",
    "print(\"Valores únicos en la columna 'wpt_name_grouped':\", X_test['wpt_name_grouped'].nunique())\n",
    "print(\"Valores únicos en la columna 'subvillage_grouped':\", X_test['subvillage_grouped'].nunique())\n",
    "print(\"Valores únicos en la columna 'region_grouped':\", X_test['region_grouped'].nunique())\n",
    "print(\"Valores únicos en la columna 'lga_grouped':\", X_test['lga_grouped'].nunique())\n",
    "print(\"Valores únicos en la columna 'ward_grouped':\", X_test['ward_grouped'].nunique())\n",
    "print(\"Valores únicos en la columna 'scheme_name_grouped':\", X_test['scheme_name_grouped'].nunique())\n",
    "print(\"Valores únicos en la columna 'extraction_type_grouped':\", X_test['extraction_type_grouped'].nunique())\n",
    "print(\"Valores únicos en la columna 'extraction_type_group_grouped':\", X_test['extraction_type_group_grouped'].nunique())\n",
    "print(\"Valores únicos en la columna 'management_grouped':\", X_test['management_grouped'].nunique())\n",
    "print(\"Valores únicos en la columna 'source_grouped':\", X_test['source_grouped'].nunique())"
   ]
  },
  {
   "cell_type": "code",
   "execution_count": 248,
   "id": "868dc247-b9f0-4ace-993a-080ed6bf0fe8",
   "metadata": {},
   "outputs": [
    {
     "name": "stdout",
     "output_type": "stream",
     "text": [
      "Columna 'wpt_name_grouped' codificada por frecuencia.\n",
      "Columna 'subvillage_grouped' codificada por frecuencia.\n",
      "Columna 'ward_grouped' codificada por frecuencia.\n",
      "Columna 'lga_grouped' codificada por frecuencia.\n"
     ]
    }
   ],
   "source": [
    "# Transformamos las variables con más valores únicos a numéricas a través de la codificación por frecuencia\n",
    "\n",
    "def frequency_encode(train_df, test_df, column):\n",
    "    \"\"\"Codifica una columna categórica por frecuencia usando el train_df.\"\"\"\n",
    "    frequency_map = train_df[column].value_counts(normalize=True).to_dict()\n",
    "    train_df[column + '_freq'] = train_df[column].map(frequency_map)\n",
    "    test_df[column + '_freq'] = test_df[column].map(frequency_map).fillna(0)\n",
    "    return train_df, test_df\n",
    "\n",
    "columns_to_freq_encode = ['wpt_name_grouped', 'subvillage_grouped', 'ward_grouped', 'lga_grouped']\n",
    "\n",
    "for col in columns_to_freq_encode:\n",
    "    X_Y_train, X_test = frequency_encode(X_Y_train, X_test, col)\n",
    "    print(f\"Columna '{col}' codificada por frecuencia.\")\n",
    "\n",
    "# Eliminar las columnas originales agrupadas después de la codificación por frecuencia\n",
    "\n",
    "X_Y_train.drop(columns=columns_to_freq_encode, inplace=True, errors='ignore')\n",
    "X_test.drop(columns=columns_to_freq_encode, inplace=True, errors='ignore')"
   ]
  },
  {
   "cell_type": "code",
   "execution_count": 250,
   "id": "015272fa-f071-4203-940a-64a19d29c156",
   "metadata": {},
   "outputs": [
    {
     "name": "stdout",
     "output_type": "stream",
     "text": [
      "Columnas en X_Y_train después del one-hot encoding (primeras 20): ['id', 'amount_tsh', 'gps_height', 'longitude', 'latitude', 'num_private', 'region_code', 'district_code', 'population', 'public_meeting', 'permit', 'construction_year', 'status_group', 'recorded_year', 'recorded_month', 'recorded_day', 'basin_Internal', 'basin_Lake Nyasa', 'basin_Lake Rukwa', 'basin_Lake Tanganyika']\n",
      "\n",
      "Columnas en X_test después del one-hot encoding (primeras 20): ['id', 'amount_tsh', 'gps_height', 'longitude', 'latitude', 'num_private', 'region_code', 'district_code', 'population', 'public_meeting', 'permit', 'construction_year', 'basin_Lake Nyasa', 'basin_Lake Rukwa', 'basin_Lake Tanganyika', 'basin_Lake Victoria', 'basin_Pangani', 'basin_Rufiji', 'basin_Ruvuma / Southern Coast', 'basin_Wami / Ruvu']\n"
     ]
    }
   ],
   "source": [
    "# Transformamos las variables con menos valores únicos a numéricas a través del \"One-hot encoding\"\n",
    "\n",
    "columnas_to_one_hot = [\n",
    "    'funder_grouped', 'installer_grouped', 'region_grouped', 'scheme_name_grouped',\n",
    "    'extraction_type_grouped', 'extraction_type_group_grouped',\n",
    "    'management_grouped', 'source_grouped'\n",
    "]\n",
    "\n",
    "for col in columnas_to_one_hot:\n",
    "    all_categories = pd.concat([X_Y_train[col], X_test[col]]).unique()\n",
    "    \n",
    "# Convertir la columna a tipo 'category' con todas las categorías posibles\n",
    "    \n",
    "    train_cat = pd.Categorical(X_Y_train[col], categories=all_categories)\n",
    "    test_cat = pd.Categorical(X_test[col], categories=all_categories)\n",
    "\n",
    "    train_dummies = pd.get_dummies(train_cat, prefix=col, drop_first=True, dtype=int)\n",
    "    test_dummies = pd.get_dummies(test_cat, prefix=col, drop_first=True, dtype=int)\n",
    "\n",
    "    X_Y_train = pd.concat([X_Y_train, train_dummies], axis=1).drop(col, axis=1, errors='ignore')\n",
    "    X_test = pd.concat([X_test, test_dummies], axis=1).drop(col, axis=1, errors='ignore')\n",
    "\n",
    "print(\"Columnas en X_Y_train después del one-hot encoding (primeras 20):\", X_Y_train.columns.tolist()[:20])\n",
    "print(\"\\nColumnas en X_test después del one-hot encoding (primeras 20):\", X_test.columns.tolist()[:20])"
   ]
  },
  {
   "cell_type": "markdown",
   "id": "a7d5b9ed-edef-4c68-9de1-ed2a130b9e4b",
   "metadata": {},
   "source": [
    "Ya tenemos todas las variables objeto transformadas a numéricas salvo por la variable status_group, variable del conjunto y_train que nos dice cómo se encuentra la bomba. Es la variable que queremos precedir en X_test (nuestra y_pred)"
   ]
  },
  {
   "cell_type": "code",
   "execution_count": 252,
   "id": "6596a670-2041-45bd-a595-0b7ab33d00c7",
   "metadata": {},
   "outputs": [
    {
     "name": "stdout",
     "output_type": "stream",
     "text": [
      "Primeros valores de y_train (variable objetivo numérica):\n",
      "0    0\n",
      "1    0\n",
      "2    0\n",
      "3    1\n",
      "4    0\n",
      "Name: status_group_encoded, dtype: int64\n",
      "\n",
      "Primeras filas de X_train (características numéricas):\n",
      "      id  amount_tsh  gps_height  longitude   latitude  num_private  \\\n",
      "0  69572      6000.0        1390  34.938093  -9.856322            0   \n",
      "1   8776         0.0        1399  34.698766  -2.147466            0   \n",
      "2  34310        25.0         686  37.460664  -3.821329            0   \n",
      "3  67743         0.0         263  38.486161 -11.155298            0   \n",
      "4  19728         0.0           0  31.130847  -1.825359            0   \n",
      "\n",
      "   region_code  district_code  population  public_meeting  ...  \\\n",
      "0           11              5         109               0  ...   \n",
      "1           20              2         280               0  ...   \n",
      "2           21              4         250               0  ...   \n",
      "3           90             63          58               0  ...   \n",
      "4           18              1           0               0  ...   \n",
      "\n",
      "   management_grouped_Other  source_grouped_rainwater harvesting  \\\n",
      "0                         0                                    0   \n",
      "1                         0                                    1   \n",
      "2                         0                                    0   \n",
      "3                         0                                    0   \n",
      "4                         0                                    1   \n",
      "\n",
      "   source_grouped_dam  source_grouped_machine dbh  source_grouped_other  \\\n",
      "0                   0                           0                     0   \n",
      "1                   0                           0                     0   \n",
      "2                   1                           0                     0   \n",
      "3                   0                           1                     0   \n",
      "4                   0                           0                     0   \n",
      "\n",
      "   source_grouped_shallow well  source_grouped_river  source_grouped_hand dtw  \\\n",
      "0                            0                     0                        0   \n",
      "1                            0                     0                        0   \n",
      "2                            0                     0                        0   \n",
      "3                            0                     0                        0   \n",
      "4                            0                     0                        0   \n",
      "\n",
      "   source_grouped_lake  source_grouped_unknown  \n",
      "0                    0                       0  \n",
      "1                    0                       0  \n",
      "2                    0                       0  \n",
      "3                    0                       0  \n",
      "4                    0                       0  \n",
      "\n",
      "[5 rows x 216 columns]\n"
     ]
    }
   ],
   "source": [
    "# Para status_group, como solo tiene 3 valores únicos vamos a sustituir estos valores por 0, 1 y 3\n",
    "\n",
    "# Definir el mapeo de las categorías \n",
    "mapping = {'functional': 0, 'non functional': 1, 'functional needs repair': 3}\n",
    "\n",
    "# Crear la nueva columna numérica 'status_group_encoded' \n",
    "X_Y_train['status_group_encoded'] = X_Y_train['status_group'].map(mapping)\n",
    "\n",
    "# Separar las características (X_train) de la variable objetivo (y_train)\n",
    "# Esto se hace ya que es más sencillo modelar con cada tabla separada y así se genera menos confusión.\n",
    "\n",
    "y_train = X_Y_train['status_group_encoded']\n",
    "X_train = X_Y_train.drop(['status_group', 'status_group_encoded'], axis=1, errors='ignore')\n",
    "\n",
    "print(\"Primeros valores de y_train (variable objetivo numérica):\")\n",
    "print(y_train.head())\n",
    "\n",
    "print(\"\\nPrimeras filas de X_train (características numéricas):\")\n",
    "print(X_train.head())"
   ]
  },
  {
   "cell_type": "markdown",
   "id": "aadec7f0-528d-4f52-81de-16a1649dd258",
   "metadata": {},
   "source": [
    "Tras esta transformación de las variables objeto de X_train y X_test a numéricas, comprobamos que realmente no haya más variables objeto y que todas las variables sean ya numéricas."
   ]
  },
  {
   "cell_type": "code",
   "execution_count": 258,
   "id": "97638f6b-f25c-413f-8295-04e7ec56dfb1",
   "metadata": {},
   "outputs": [
    {
     "name": "stdout",
     "output_type": "stream",
     "text": [
      "Tipos de datos de las columnas en X_train:\n",
      "<bound method DataFrame.info of           id  amount_tsh  gps_height  longitude   latitude  num_private  \\\n",
      "0      69572      6000.0        1390  34.938093  -9.856322            0   \n",
      "1       8776         0.0        1399  34.698766  -2.147466            0   \n",
      "2      34310        25.0         686  37.460664  -3.821329            0   \n",
      "3      67743         0.0         263  38.486161 -11.155298            0   \n",
      "4      19728         0.0           0  31.130847  -1.825359            0   \n",
      "...      ...         ...         ...        ...        ...          ...   \n",
      "59395  60739        10.0        1210  37.169807  -3.253847            0   \n",
      "59396  27263      4700.0        1212  35.249991  -9.070629            0   \n",
      "59397  37057         0.0           0  34.017087  -8.750434            0   \n",
      "59398  31282         0.0           0  35.861315  -6.378573            0   \n",
      "59399  26348         0.0         191  38.104048  -6.747464            0   \n",
      "\n",
      "       region_code  district_code  population  public_meeting  ...  \\\n",
      "0               11              5         109               0  ...   \n",
      "1               20              2         280               0  ...   \n",
      "2               21              4         250               0  ...   \n",
      "3               90             63          58               0  ...   \n",
      "4               18              1           0               0  ...   \n",
      "...            ...            ...         ...             ...  ...   \n",
      "59395            3              5         125               0  ...   \n",
      "59396           11              4          56               0  ...   \n",
      "59397           12              7           0               0  ...   \n",
      "59398            1              4           0               0  ...   \n",
      "59399            5              2         150               0  ...   \n",
      "\n",
      "       management_grouped_Other  source_grouped_rainwater harvesting  \\\n",
      "0                             0                                    0   \n",
      "1                             0                                    1   \n",
      "2                             0                                    0   \n",
      "3                             0                                    0   \n",
      "4                             0                                    1   \n",
      "...                         ...                                  ...   \n",
      "59395                         0                                    0   \n",
      "59396                         0                                    0   \n",
      "59397                         0                                    0   \n",
      "59398                         0                                    0   \n",
      "59399                         0                                    0   \n",
      "\n",
      "       source_grouped_dam  source_grouped_machine dbh  source_grouped_other  \\\n",
      "0                       0                           0                     0   \n",
      "1                       0                           0                     0   \n",
      "2                       1                           0                     0   \n",
      "3                       0                           1                     0   \n",
      "4                       0                           0                     0   \n",
      "...                   ...                         ...                   ...   \n",
      "59395                   0                           0                     0   \n",
      "59396                   0                           0                     0   \n",
      "59397                   0                           1                     0   \n",
      "59398                   0                           0                     0   \n",
      "59399                   0                           0                     0   \n",
      "\n",
      "       source_grouped_shallow well  source_grouped_river  \\\n",
      "0                                0                     0   \n",
      "1                                0                     0   \n",
      "2                                0                     0   \n",
      "3                                0                     0   \n",
      "4                                0                     0   \n",
      "...                            ...                   ...   \n",
      "59395                            0                     0   \n",
      "59396                            0                     1   \n",
      "59397                            0                     0   \n",
      "59398                            1                     0   \n",
      "59399                            1                     0   \n",
      "\n",
      "       source_grouped_hand dtw  source_grouped_lake  source_grouped_unknown  \n",
      "0                            0                    0                       0  \n",
      "1                            0                    0                       0  \n",
      "2                            0                    0                       0  \n",
      "3                            0                    0                       0  \n",
      "4                            0                    0                       0  \n",
      "...                        ...                  ...                     ...  \n",
      "59395                        0                    0                       0  \n",
      "59396                        0                    0                       0  \n",
      "59397                        0                    0                       0  \n",
      "59398                        0                    0                       0  \n",
      "59399                        0                    0                       0  \n",
      "\n",
      "[59400 rows x 216 columns]>\n",
      "\n",
      "Tipos de datos de las columnas en X_test:\n",
      "<bound method DataFrame.info of           id  amount_tsh  gps_height  longitude   latitude  num_private  \\\n",
      "0      50785         0.0        1996  35.290799  -4.059696            0   \n",
      "1      51630         0.0        1569  36.656709  -3.309214            0   \n",
      "2      17168         0.0        1567  34.767863  -5.004344            0   \n",
      "3      45559         0.0         267  38.058046  -9.418672            0   \n",
      "4      49871       500.0        1260  35.006123 -10.950412            0   \n",
      "...      ...         ...         ...        ...        ...          ...   \n",
      "14845  39307         0.0          34  38.852669  -6.582841            0   \n",
      "14846  18990      1000.0           0  37.451633  -5.350428            0   \n",
      "14847  28749         0.0        1476  34.739804  -4.585587            0   \n",
      "14848  33492         0.0         998  35.432732 -10.584159            0   \n",
      "14849  68707         0.0         481  34.765054 -11.226012            0   \n",
      "\n",
      "       region_code  district_code  population  public_meeting  ...  \\\n",
      "0               21              3         321               0  ...   \n",
      "1                2              2         300               0  ...   \n",
      "2               13              2         500               0  ...   \n",
      "3               80             43         250               0  ...   \n",
      "4               10              3          60               0  ...   \n",
      "...            ...            ...         ...             ...  ...   \n",
      "14845            6              1          20               0  ...   \n",
      "14846            4              7        2960               0  ...   \n",
      "14847           13              2         200               0  ...   \n",
      "14848           10              2         150               0  ...   \n",
      "14849           10              3          40               0  ...   \n",
      "\n",
      "       management_grouped_Other  source_grouped_rainwater harvesting  \\\n",
      "0                             0                                    1   \n",
      "1                             0                                    0   \n",
      "2                             0                                    1   \n",
      "3                             0                                    0   \n",
      "4                             0                                    0   \n",
      "...                         ...                                  ...   \n",
      "14845                         0                                    0   \n",
      "14846                         0                                    0   \n",
      "14847                         0                                    0   \n",
      "14848                         0                                    0   \n",
      "14849                         0                                    0   \n",
      "\n",
      "       source_grouped_dam  source_grouped_machine dbh  source_grouped_other  \\\n",
      "0                       0                           0                     0   \n",
      "1                       0                           0                     0   \n",
      "2                       0                           0                     0   \n",
      "3                       0                           0                     0   \n",
      "4                       0                           0                     0   \n",
      "...                   ...                         ...                   ...   \n",
      "14845                   0                           0                     0   \n",
      "14846                   0                           0                     0   \n",
      "14847                   1                           0                     0   \n",
      "14848                   0                           0                     0   \n",
      "14849                   0                           0                     0   \n",
      "\n",
      "       source_grouped_shallow well  source_grouped_river  \\\n",
      "0                                0                     0   \n",
      "1                                0                     0   \n",
      "2                                0                     0   \n",
      "3                                1                     0   \n",
      "4                                0                     0   \n",
      "...                            ...                   ...   \n",
      "14845                            0                     1   \n",
      "14846                            1                     0   \n",
      "14847                            0                     0   \n",
      "14848                            0                     1   \n",
      "14849                            0                     0   \n",
      "\n",
      "       source_grouped_hand dtw  source_grouped_lake  source_grouped_unknown  \n",
      "0                            0                    0                       0  \n",
      "1                            0                    0                       0  \n",
      "2                            0                    0                       0  \n",
      "3                            0                    0                       0  \n",
      "4                            0                    0                       0  \n",
      "...                        ...                  ...                     ...  \n",
      "14845                        0                    0                       0  \n",
      "14846                        0                    0                       0  \n",
      "14847                        0                    0                       0  \n",
      "14848                        0                    0                       0  \n",
      "14849                        0                    0                       0  \n",
      "\n",
      "[14850 rows x 216 columns]>\n",
      "\n",
      "Tipos de datos de las columnas en y_train:\n",
      "<bound method Series.info of 0        0\n",
      "1        0\n",
      "2        0\n",
      "3        1\n",
      "4        0\n",
      "        ..\n",
      "59395    0\n",
      "59396    0\n",
      "59397    0\n",
      "59398    0\n",
      "59399    0\n",
      "Name: status_group_encoded, Length: 59400, dtype: int64>\n"
     ]
    }
   ],
   "source": [
    "print(\"Tipos de datos de las columnas en X_train:\")\n",
    "print(X_train.info)\n",
    "\n",
    "print(\"\\nTipos de datos de las columnas en X_test:\")\n",
    "print(X_test.info)\n",
    "\n",
    "print(\"\\nTipos de datos de las columnas en y_train:\")\n",
    "print(y_train.info)"
   ]
  },
  {
   "cell_type": "markdown",
   "id": "f246bbb6-ba1d-4351-8b90-8681d92b0c3a",
   "metadata": {},
   "source": [
    "##### Llegados a este punto nos damos cuenta que la X_train tiene más columnas que la X_test, lo que nos impide poder modelar adecuadamente. Por ello se va a utilizar una técnica llamada reindexar. Esta técnica permite crear las columnas presentes en X_Y_train que no estaban en X_test, se rellenándose de ceros."
   ]
  },
  {
   "cell_type": "code",
   "execution_count": 255,
   "id": "86bd3445-b356-412f-a903-0f393c9cf0eb",
   "metadata": {},
   "outputs": [
    {
     "name": "stdout",
     "output_type": "stream",
     "text": [
      "Número de columnas en X_train después de la alineación: 216\n",
      "Número de columnas en X_test después de la alineación: 216\n"
     ]
    }
   ],
   "source": [
    "train_cols = X_train.columns\n",
    "X_test = X_test.reindex(columns=train_cols, fill_value=0)\n",
    "\n",
    "print(\"Número de columnas en X_train después de la alineación:\", X_train.shape[1])\n",
    "print(\"Número de columnas en X_test después de la alineación:\", X_test.shape[1])"
   ]
  },
  {
   "cell_type": "markdown",
   "id": "183aa62c-ed2c-4b40-8886-7a441360ad90",
   "metadata": {},
   "source": [
    "# Modelamos"
   ]
  },
  {
   "cell_type": "markdown",
   "id": "9ed89a3e-7f9b-4aaa-a345-d1b510cc35b3",
   "metadata": {},
   "source": [
    "Uso del modelo Random Forest Classifier, que es un algoritmo de aprendizaje supervisado potente y versátil para problemas de clasificación"
   ]
  },
  {
   "cell_type": "markdown",
   "id": "f72a6d46-d530-417e-b461-f566e185ed27",
   "metadata": {},
   "source": [
    "Para estimar el rendimiento del modelo en datos no vistos antes de hacer predicciones en el conjunto de prueba, realizamos una validación cruzada estratificada (StratifiedKFold). Esto nos proporcionó una idea de cómo el modelo podría generalizar y nos dio métricas importantes como precisión (accuracy), precisión (precision), recall (exhaustividad) y F1-score."
   ]
  },
  {
   "cell_type": "code",
   "execution_count": 266,
   "id": "9e684f77-53a9-4963-a44d-3e5f35614c8a",
   "metadata": {},
   "outputs": [
    {
     "name": "stdout",
     "output_type": "stream",
     "text": [
      "accuracy con StratifiedKFold: [0.80799663 0.80286195 0.81077441 0.80909091 0.81313131]\n",
      "accuracy promedio con StratifiedKFold: 0.8088\n"
     ]
    }
   ],
   "source": [
    "from sklearn.model_selection import cross_val_score, StratifiedKFold, cross_validate\n",
    "from sklearn.ensemble import RandomForestClassifier\n",
    "import numpy as np\n",
    "\n",
    "# Crear el modelo Random Forest\n",
    "model_rf = RandomForestClassifier(random_state=0)\n",
    "\n",
    "# Estrategia de validación cruzada StratifiedKFold\n",
    "skf = StratifiedKFold(n_splits=5, shuffle=True, random_state=0)\n",
    "\n",
    "# Validación cruzada para obtener la precisión\n",
    "scores_skf = cross_val_score(model_rf, X_train, y_train, cv=skf, scoring='accuracy')\n",
    "\n",
    "print(\"accuracy con StratifiedKFold:\", scores_skf)\n",
    "print(f\"accuracy promedio con StratifiedKFold: {np.mean(scores_skf):.4f}\")"
   ]
  },
  {
   "cell_type": "code",
   "execution_count": 267,
   "id": "8b5654de-f447-4f2a-ab7a-5229d49b808c",
   "metadata": {},
   "outputs": [
    {
     "name": "stdout",
     "output_type": "stream",
     "text": [
      "Resultados de la validación cruzada con StratifiedKFold\n",
      "{'fit_time': array([27.65245104, 27.46069837, 27.88518167, 27.3729496 , 27.64996576]), 'score_time': array([0.90758204, 0.85920882, 0.94375324, 0.80164599, 0.80147219]), 'test_accuracy': array([0.80799663, 0.80286195, 0.81077441, 0.80909091, 0.81313131]), 'test_precision_weighted': array([0.80227757, 0.79721163, 0.80391953, 0.80182487, 0.80774755]), 'test_recall_weighted': array([0.80799663, 0.80286195, 0.81077441, 0.80909091, 0.81313131]), 'test_f1_weighted': array([0.80209533, 0.79717085, 0.80408996, 0.80257375, 0.80651161])}\n"
     ]
    }
   ],
   "source": [
    "# Obtenemos otras métricas utilizando cross_validate con StratifiedKFold\n",
    "scoring = ['accuracy', 'precision_weighted', 'recall_weighted', 'f1_weighted']\n",
    "cv_results_skf = cross_validate(model_rf, X_train, y_train, cv=skf, scoring=scoring)\n",
    "\n",
    "print(\"Resultados de la validación cruzada con StratifiedKFold\")\n",
    "print(cv_results_skf)"
   ]
  },
  {
   "cell_type": "markdown",
   "id": "78389ff7-0c44-47c4-9b52-c9ec32b22601",
   "metadata": {},
   "source": [
    "Una vez que tuvimos una estimación del rendimiento del modelo, entrenamos un modelo Random Forest final utilizando todo el conjunto de entrenamiento (X_train, y_train)."
   ]
  },
  {
   "cell_type": "markdown",
   "id": "6b67ada6-cf7a-4c6e-9290-fd82e52c0962",
   "metadata": {},
   "source": [
    "Utilizamos el modelo final entrenado para generar las predicciones de la variable objetivo (status_group) para las instancias en el conjunto de prueba (X_test). Estas predicciones se almacenaron en la variable y_pred_test como un array numérico. "
   ]
  },
  {
   "cell_type": "code",
   "execution_count": 270,
   "id": "9d6e0db3-8bbc-42c5-b3f2-3a47e36b367b",
   "metadata": {},
   "outputs": [
    {
     "name": "stdout",
     "output_type": "stream",
     "text": [
      "Primeras 20 predicciones para X_test: [0 0 0 1 0 0 0 1 1 0 0 1 1 1 0 0 0 0 0 1 0 0 1 1 0 0 0 0 0 0 0 1 1 0 0 0 0\n",
      " 0 1 0 0 0 1 1 0 0 0 0 1 0 0 0 1 1 1 1 0 1 0 1 0 0 0 1 0 0 0 1 0 1 1 3 1 0\n",
      " 1 0 0 0 0 1 0 1 0 0 0 0 0 1 0 0 0 1 0 1 0 0 0 0 0 1 1 1 1 0 0 0 0 0 0 0 0\n",
      " 1 0 0 1 1 0 1 0 1 1 0 0 1 0 0 0 0 0 0 0 0 1 1 0 3 0 3 0 0 0 0 1 1 0 0 1 0\n",
      " 1 1 0 0 1 0 1 0 0 1 0 0 0 1 1 1 0 0 1 0 0 0 0 0 0 1 0 0 0 1 0 0 1 0 0 0 0\n",
      " 1 0 1 1 0 0 0 3 0 0 1 0 1 3 0]\n"
     ]
    }
   ],
   "source": [
    "# Usamos Random Forest para obtener la predicción de y_test\n",
    "final_model_rf = RandomForestClassifier(random_state=0)\n",
    "\n",
    "# Entrenamos el modelo\n",
    "final_model_rf.fit(X_train, y_train)\n",
    "\n",
    "# Predecimos con X_test\n",
    "y_pred_test = final_model_rf.predict(X_test)\n",
    "\n",
    "print(\"Primeras 200 predicciones para X_test:\", y_pred_test[:200])"
   ]
  },
  {
   "cell_type": "markdown",
   "id": "be7e78bf-2d8f-4949-b36f-9597cbe6658d",
   "metadata": {},
   "source": [
    "Finalmente, convertimos las predicciones numéricas de vuelta a las etiquetas de texto originales ('functional', 'non functional', 'functional needs repair') utilizando el mapeo inverso de la codificación que aplicamos a y_train. Luego, combinamos estas etiquetas con la columna 'id' del X_test para crear un DataFrame en el formato requerido para la entrega o análisis."
   ]
  },
  {
   "cell_type": "code",
   "execution_count": 275,
   "id": "d92995db-4656-4156-ba2b-4413b3c6adba",
   "metadata": {},
   "outputs": [
    {
     "name": "stdout",
     "output_type": "stream",
     "text": [
      "       id    status_group\n",
      "0   50785      functional\n",
      "1   51630      functional\n",
      "2   17168      functional\n",
      "3   45559  non functional\n",
      "4   49871      functional\n",
      "5   52449      functional\n",
      "6   24806      functional\n",
      "7   28965  non functional\n",
      "8   36301  non functional\n",
      "9   54122      functional\n",
      "10    419      functional\n",
      "11  45750  non functional\n",
      "12    653  non functional\n",
      "13  14017  non functional\n",
      "14  44607      functional\n",
      "15  40228      functional\n",
      "16  27714      functional\n",
      "17  28785      functional\n",
      "18  28330      functional\n",
      "19  18532  non functional\n",
      "20  69961      functional\n",
      "21  55083      functional\n",
      "22   8691  non functional\n",
      "23  30331  non functional\n",
      "24  70970      functional\n",
      "25  61136      functional\n",
      "26  28799      functional\n",
      "27  46825      functional\n",
      "28  44718      functional\n",
      "29  37350      functional\n",
      "30  65738      functional\n",
      "31   3271  non functional\n",
      "32  42658  non functional\n",
      "33  67523      functional\n",
      "34  37034      functional\n",
      "35  42432      functional\n",
      "36  27420      functional\n",
      "37    707      functional\n",
      "38  48489  non functional\n",
      "39  51008      functional\n",
      "40  72562      functional\n",
      "41  10275      functional\n",
      "42  53540  non functional\n",
      "43  43291  non functional\n",
      "44   8813      functional\n",
      "45  62343      functional\n",
      "46   1649      functional\n",
      "47   8822      functional\n",
      "48  10352  non functional\n",
      "49  50878      functional\n",
      "50  15266      functional\n",
      "51  51956      functional\n",
      "52  44099  non functional\n",
      "53     59  non functional\n",
      "54  51359  non functional\n",
      "55  15962  non functional\n",
      "56  17853      functional\n",
      "57  42040  non functional\n",
      "58  72243      functional\n",
      "59  63653  non functional\n"
     ]
    }
   ],
   "source": [
    "reverse_mapping = {0: 'functional', 1: 'non functional', 3: 'functional needs repair'}\n",
    "y_pred_test_labels = [reverse_mapping[pred] for pred in y_pred_test]\n",
    "\n",
    "# Creamos un DataFrame con el 'id' de X_test y las etiquetas de predicción\n",
    "predictions_df = pd.DataFrame({'id': X_test['id'], 'status_group': y_pred_test_labels})\n",
    "\n",
    "# Imprimimos las primeras filas del DataFrame de predicciones\n",
    "print(predictions_df.head(20))"
   ]
  },
  {
   "cell_type": "code",
   "execution_count": 276,
   "id": "d0b9c626-9439-438c-96a1-603c827ebead",
   "metadata": {},
   "outputs": [],
   "source": [
    "# Guardamos el DataFrame predictions_df en un archivo CSV \n",
    "predictions_df.to_csv('y_pred.csv', index=False, sep=',')"
   ]
  },
  {
   "cell_type": "markdown",
   "id": "8c6bd8b7-9830-4515-9f35-7bcc530f5876",
   "metadata": {},
   "source": [
    "La score en la competición de este modelo ha sido 0.7643. El modelo logró una precisión del 76.43% al predecir el estado funcional de las bombas de agua en los datos no vistos del conjunto de prueba"
   ]
  },
  {
   "cell_type": "code",
   "execution_count": null,
   "id": "c4ea89fc-71fa-44bd-a9ad-7d48081afecd",
   "metadata": {},
   "outputs": [],
   "source": []
  },
  {
   "cell_type": "code",
   "execution_count": null,
   "id": "16ef66e9-ba4e-4e60-99f7-fce58ce9a79c",
   "metadata": {},
   "outputs": [],
   "source": []
  }
 ],
 "metadata": {
  "kernelspec": {
   "display_name": "Python 3 (ipykernel)",
   "language": "python",
   "name": "python3"
  },
  "language_info": {
   "codemirror_mode": {
    "name": "ipython",
    "version": 3
   },
   "file_extension": ".py",
   "mimetype": "text/x-python",
   "name": "python",
   "nbconvert_exporter": "python",
   "pygments_lexer": "ipython3",
   "version": "3.10.16"
  }
 },
 "nbformat": 4,
 "nbformat_minor": 5
}
